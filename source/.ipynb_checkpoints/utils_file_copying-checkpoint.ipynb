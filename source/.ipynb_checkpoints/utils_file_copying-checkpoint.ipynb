{
 "cells": [
  {
   "cell_type": "code",
   "execution_count": 63,
   "metadata": {
    "collapsed": true
   },
   "outputs": [],
   "source": [
    "import os\n",
    "from shutil import copyfile\n",
    "import re"
   ]
  },
  {
   "cell_type": "code",
   "execution_count": 68,
   "metadata": {
    "collapsed": true
   },
   "outputs": [],
   "source": [
    "## TODO refactor into a function\n",
    "\n",
    "xy = 41"
   ]
  },
  {
   "cell_type": "code",
   "execution_count": 69,
   "metadata": {
    "collapsed": true
   },
   "outputs": [],
   "source": [
    "path_source = \"F:/\"\n",
    "path_t1 = \"20170612_Unsync_T1/20170612_145446_789\"\n",
    "path_t2 = \"20170612_Unsync_T2/20170613_115831_000\"\n",
    "path_infocus = \"bf_in-focus\"\n",
    "path_outfocus = \"bf_out-of-focus\""
   ]
  },
  {
   "cell_type": "code",
   "execution_count": 70,
   "metadata": {
    "collapsed": true
   },
   "outputs": [],
   "source": [
    "path_target = \"D:/syncplicity/z003prfz/Projects/MA/test/eli-new-unsync-bf-%d/\" % xy"
   ]
  },
  {
   "cell_type": "code",
   "execution_count": 71,
   "metadata": {
    "collapsed": false
   },
   "outputs": [],
   "source": [
    "if not os.path.exists(path_target):\n",
    "    os.makedirs(path_target)\n",
    "\n",
    "path_target_in = os.path.join(path_target, \"in-focus\")\n",
    "if not os.path.exists(path_target_in):\n",
    "    os.makedirs(path_target_in)\n",
    "    \n",
    "path_target_out = os.path.join(path_target, \"out-focus\")\n",
    "if not os.path.exists(path_target_out):\n",
    "    os.makedirs(path_target_out)\n",
    "    \n",
    "path_target_in_t1 = os.path.join(path_target_in, \"before\")\n",
    "if not os.path.exists(path_target_in_t1):\n",
    "    os.makedirs(path_target_in_t1)\n",
    "\n",
    "path_target_in_t2 = os.path.join(path_target_in, \"after\")\n",
    "if not os.path.exists(path_target_in_t2):\n",
    "    os.makedirs(path_target_in_t2)\n",
    "    \n",
    "path_target_out_t1 = os.path.join(path_target_out, \"before\")\n",
    "if not os.path.exists(path_target_out_t1):\n",
    "    os.makedirs(path_target_out_t1)\n",
    "    \n",
    "path_target_out_t1_out = os.path.join(path_target_out_t1, \"out\")\n",
    "if not os.path.exists(path_target_out_t1_out):\n",
    "    os.makedirs(path_target_out_t1_out)\n",
    "\n",
    "path_target_out_t1_out_track = os.path.join(path_target_out_t1_out, \"tracked\")\n",
    "if not os.path.exists(path_target_out_t1_out_track):\n",
    "    os.makedirs(path_target_out_t1_out_track)\n",
    "    \n",
    "path_target_out_t1_out_stack = os.path.join(path_target_out_t1_out, \"stacks\")\n",
    "if not os.path.exists(path_target_out_t1_out_stack):\n",
    "    os.makedirs(path_target_out_t1_out_stack)\n",
    "    \n",
    "path_target_out_t2 = os.path.join(path_target_out, \"after\")\n",
    "if not os.path.exists(path_target_out_t2):\n",
    "    os.makedirs(path_target_out_t2)\n",
    "    \n",
    "path_target_out_t2_out = os.path.join(path_target_out_t2, \"out\")\n",
    "if not os.path.exists(path_target_out_t2_out):\n",
    "    os.makedirs(path_target_out_t2_out)\n",
    "\n",
    "path_target_out_t2_out_track = os.path.join(path_target_out_t2_out, \"tracked\")\n",
    "if not os.path.exists(path_target_out_t2_out_track):\n",
    "    os.makedirs(path_target_out_t2_out_track)\n",
    "    \n",
    "path_target_out_t2_out_stack = os.path.join(path_target_out_t2_out, \"stacks\")\n",
    "if not os.path.exists(path_target_out_t2_out_stack):\n",
    "    os.makedirs(path_target_out_t2_out_stack)\n",
    "    \n",
    "path_target_out_merged = os.path.join(path_target_out, \"merged\")\n",
    "if not os.path.exists(path_target_out_merged):\n",
    "    os.makedirs(path_target_out_merged)\n",
    "    \n",
    "path_target_out_merged_out = os.path.join(path_target_out_merged, \"out\")\n",
    "if not os.path.exists(path_target_out_merged_out):\n",
    "    os.makedirs(path_target_out_merged_out)\n",
    "\n",
    "path_target_out_merged_out_track = os.path.join(path_target_out_merged_out, \"tracked\")\n",
    "if not os.path.exists(path_target_out_merged_out_track):\n",
    "    os.makedirs(path_target_out_merged_out_track)\n",
    "    \n",
    "path_target_out_merged_out_stack = os.path.join(path_target_out_merged_out, \"stacks\")\n",
    "if not os.path.exists(path_target_out_merged_out_stack):\n",
    "    os.makedirs(path_target_out_merged_out_stack)"
   ]
  },
  {
   "cell_type": "code",
   "execution_count": 59,
   "metadata": {
    "collapsed": false
   },
   "outputs": [
    {
     "data": {
      "text/plain": [
       "'D:/syncplicity/z003prfz/Projects/MA/test/eli-new-unsync-bf-40/in-focus\\\\before\\\\bf_in-focusxy40c1c1.tif'"
      ]
     },
     "execution_count": 59,
     "metadata": {},
     "output_type": "execute_result"
    }
   ],
   "source": [
    "infocus_t1 = os.path.join(path_source, path_t1, path_infocus)\n",
    "file = [i for i in os.listdir(infocus_t1) if re.search('xy%d' % xy, i) is not None][0]\n",
    "\n",
    "copyfile(os.path.join(infocus_t1, file), os.path.join(path_target_in_t1, file))"
   ]
  },
  {
   "cell_type": "code",
   "execution_count": 60,
   "metadata": {
    "collapsed": false
   },
   "outputs": [
    {
     "data": {
      "text/plain": [
       "'D:/syncplicity/z003prfz/Projects/MA/test/eli-new-unsync-bf-40/in-focus\\\\after\\\\bf_in-focusxy40c1.tif'"
      ]
     },
     "execution_count": 60,
     "metadata": {},
     "output_type": "execute_result"
    }
   ],
   "source": [
    "infocus_t2 = os.path.join(path_source, path_t2, path_infocus)\n",
    "file = [i for i in os.listdir(infocus_t2) if re.search('xy%d' % xy, i) is not None][0]\n",
    "\n",
    "copyfile(os.path.join(infocus_t2, file), os.path.join(path_target_in_t2, file))"
   ]
  },
  {
   "cell_type": "code",
   "execution_count": 61,
   "metadata": {
    "collapsed": false
   },
   "outputs": [
    {
     "data": {
      "text/plain": [
       "'D:/syncplicity/z003prfz/Projects/MA/test/eli-new-unsync-bf-40/out-focus\\\\before\\\\bfxy40c1.tif'"
      ]
     },
     "execution_count": 61,
     "metadata": {},
     "output_type": "execute_result"
    }
   ],
   "source": [
    "outfocus_t1 = os.path.join(path_source, path_t1, path_outfocus)\n",
    "file = [i for i in os.listdir(outfocus_t1) if re.search('xy%d' % xy, i) is not None][0]\n",
    "\n",
    "copyfile(os.path.join(outfocus_t1, file), os.path.join(path_target_out_t1, file))"
   ]
  },
  {
   "cell_type": "code",
   "execution_count": 62,
   "metadata": {
    "collapsed": false
   },
   "outputs": [
    {
     "data": {
      "text/plain": [
       "'D:/syncplicity/z003prfz/Projects/MA/test/eli-new-unsync-bf-40/out-focus\\\\after\\\\bfxy40c1.tif'"
      ]
     },
     "execution_count": 62,
     "metadata": {},
     "output_type": "execute_result"
    }
   ],
   "source": [
    "outfocus_t2 = os.path.join(path_source, path_t2, path_outfocus)\n",
    "file = [i for i in os.listdir(outfocus_t2) if re.search('xy%d' % xy, i) is not None][0]\n",
    "\n",
    "copyfile(os.path.join(outfocus_t2, file), os.path.join(path_target_out_t2, file))"
   ]
  }
 ],
 "metadata": {
  "anaconda-cloud": {},
  "kernelspec": {
   "display_name": "Python [conda root]",
   "language": "python",
   "name": "conda-root-py"
  },
  "language_info": {
   "codemirror_mode": {
    "name": "ipython",
    "version": 3
   },
   "file_extension": ".py",
   "mimetype": "text/x-python",
   "name": "python",
   "nbconvert_exporter": "python",
   "pygments_lexer": "ipython3",
   "version": "3.5.2"
  }
 },
 "nbformat": 4,
 "nbformat_minor": 1
}

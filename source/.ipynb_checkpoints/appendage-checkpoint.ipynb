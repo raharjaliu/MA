{
 "cells": [
  {
   "cell_type": "markdown",
   "metadata": {},
   "source": [
    "# File Organization"
   ]
  },
  {
   "cell_type": "code",
   "execution_count": 1,
   "metadata": {
    "collapsed": false
   },
   "outputs": [
    {
     "ename": "NameError",
     "evalue": "name 'os' is not defined",
     "output_type": "error",
     "traceback": [
      "\u001b[0;31m---------------------------------------------------------------------------\u001b[0m",
      "\u001b[0;31mNameError\u001b[0m                                 Traceback (most recent call last)",
      "\u001b[0;32m<ipython-input-1-5193c7bac456>\u001b[0m in \u001b[0;36m<module>\u001b[0;34m()\u001b[0m\n\u001b[1;32m     20\u001b[0m \u001b[0min_paths\u001b[0m \u001b[1;33m=\u001b[0m \u001b[1;33m[\u001b[0m\u001b[1;33m]\u001b[0m\u001b[1;33m\u001b[0m\u001b[0m\n\u001b[1;32m     21\u001b[0m \u001b[1;33m\u001b[0m\u001b[0m\n\u001b[0;32m---> 22\u001b[0;31m \u001b[1;32mif\u001b[0m \u001b[1;32mnot\u001b[0m \u001b[0mos\u001b[0m\u001b[1;33m.\u001b[0m\u001b[0mpath\u001b[0m\u001b[1;33m.\u001b[0m\u001b[0mexists\u001b[0m\u001b[1;33m(\u001b[0m\u001b[0mfpathin_bf_in\u001b[0m\u001b[1;33m)\u001b[0m\u001b[1;33m:\u001b[0m\u001b[1;33m\u001b[0m\u001b[0m\n\u001b[0m\u001b[1;32m     23\u001b[0m     \u001b[0mos\u001b[0m\u001b[1;33m.\u001b[0m\u001b[0mmakedirs\u001b[0m\u001b[1;33m(\u001b[0m\u001b[0mfpathin_bf_in\u001b[0m\u001b[1;33m)\u001b[0m\u001b[1;33m\u001b[0m\u001b[0m\n\u001b[1;32m     24\u001b[0m \u001b[0min_paths\u001b[0m\u001b[1;33m.\u001b[0m\u001b[0mappend\u001b[0m\u001b[1;33m(\u001b[0m\u001b[0mfpathin_bf_in\u001b[0m\u001b[1;33m)\u001b[0m\u001b[1;33m\u001b[0m\u001b[0m\n",
      "\u001b[0;31mNameError\u001b[0m: name 'os' is not defined"
     ]
    }
   ],
   "source": [
    "# create mock directories and pictures\n",
    "\n",
    "suffix = 'before'\n",
    "\n",
    "# in focus\n",
    "fpathin_bf_in = '../data/test/in/bf-in'\n",
    "# out focus\n",
    "fpathin_bf_out = '../data/test/in/bf-out'\n",
    "fpathin_c1 = '../data/test/in/c1'\n",
    "fpathin_c2 = '../data/test/in/c2'\n",
    "fpathin_c3 = '../data/test/in/c3'\n",
    "fpathout = '../data/test/out'\n",
    "\n",
    "pattern_bf_in = 'foo-xy%d-bf-in.tif'\n",
    "pattern_bf_out = 'foo-xy%d-bf-out.tif'\n",
    "pattern_c1 = 'foo-xy%d-bar-c1.tif'\n",
    "pattern_c2 = 'foo-xy%d-bar-c2.tif'\n",
    "pattern_c3 = 'foo-xy%d-bar-c3.tif'\n",
    "\n",
    "in_paths = []\n",
    "\n",
    "if not os.path.exists(fpathin_bf_in):\n",
    "    os.makedirs(fpathin_bf_in)\n",
    "in_paths.append(fpathin_bf_in)\n",
    "    \n",
    "if not os.path.exists(fpathin_bf_out):\n",
    "    os.makedirs(fpathin_bf_out)\n",
    "in_paths.append(fpathin_bf_out)\n",
    "    \n",
    "if not os.path.exists(fpathin_c1):\n",
    "    os.makedirs(fpathin_c1)\n",
    "in_paths.append(fpathin_c1)\n",
    "    \n",
    "if not os.path.exists(fpathin_c2):\n",
    "    os.makedirs(fpathin_c2)\n",
    "in_paths.append(fpathin_c2)\n",
    "    \n",
    "if not os.path.exists(fpathin_c3):\n",
    "    os.makedirs(fpathin_c3)\n",
    "in_paths.append(fpathin_c3)\n",
    "    \n",
    "if not os.path.exists(fpathout):\n",
    "    os.makedirs(fpathout)"
   ]
  },
  {
   "cell_type": "code",
   "execution_count": null,
   "metadata": {
    "collapsed": true
   },
   "outputs": [],
   "source": [
    "## create new file\n",
    "\n",
    "posnum = 64\n",
    "\n",
    "for i in range(posnum):\n",
    "    # in focus\n",
    "    path = os.path.join(fpathin_bf_in, pattern_bf_in % (i + 1)) \n",
    "    pathlib.Path(path).touch()\n",
    "    \n",
    "    # out focus\n",
    "    path = os.path.join(fpathin_bf_out, pattern_bf_out % (i + 1))\n",
    "    pathlib.Path(path).touch()\n",
    "    \n",
    "    # c1\n",
    "    path = os.path.join(fpathin_c1, pattern_c1 % (i + 1))\n",
    "    pathlib.Path(path).touch()\n",
    "    \n",
    "    # c2\n",
    "    path = os.path.join(fpathin_c2, pattern_c2 % (i + 1))\n",
    "    pathlib.Path(path).touch()\n",
    "    \n",
    "    # c3\n",
    "    path = os.path.join(fpathin_c3, pattern_c3 % (i + 1))\n",
    "    pathlib.Path(path).touch()"
   ]
  },
  {
   "cell_type": "code",
   "execution_count": null,
   "metadata": {
    "collapsed": true
   },
   "outputs": [],
   "source": [
    "for fl in os.listdir(fpathin_bf_in):\n",
    "    \n",
    "    # match \n",
    "    match = re.search('xy\\\\d+', fl)\n",
    "    dirdict[match.group(0)] = os.path.join(fpathout, match.group(0))\n",
    "    \n",
    "    print(\"copying files for %s\" % match.group(0))\n",
    "    \n",
    "    # create target dir\n",
    "    dir_xy =  os.path.join(fpathout, match.group(0))\n",
    "    dir_to =  os.path.join(dir_xy, suffix)\n",
    "    if not os.path.exists(dir_to):\n",
    "        os.makedirs(dir_to)\n",
    "    \n",
    "    # copy each video type for the xy\n",
    "    for sourcepath in in_paths:\n",
    "        pattern = '[^\\\\d]+' + str(match.group(0)) + '[^\\\\d]+'\n",
    "        file = [f for f in os.listdir(sourcepath) if re.search(pattern, f) is not None][0]\n",
    "        file_from = os.path.join(sourcepath, file)\n",
    "        file_to = os.path.join(dir_to, file)\n",
    "        os.rename(file_from, file_to)\n",
    "        \n",
    "    # create auxilary file structures for each xy\n",
    "    os.makedirs(os.path.join(dir_to, 'out\\\\stacks'))\n",
    "    os.makedirs(os.path.join(dir_to, 'out\\\\tracks'))\n",
    "    \n",
    "    dir_merged = os.path.join(dir_xy, 'merged')\n",
    "    if not os.path.exists(dir_merged):\n",
    "        os.makedirs(dir_merged)"
   ]
  }
 ],
 "metadata": {
  "kernelspec": {
   "display_name": "Python [conda root]",
   "language": "python",
   "name": "conda-root-py"
  },
  "language_info": {
   "codemirror_mode": {
    "name": "ipython",
    "version": 3
   },
   "file_extension": ".py",
   "mimetype": "text/x-python",
   "name": "python",
   "nbconvert_exporter": "python",
   "pygments_lexer": "ipython3",
   "version": "3.5.2"
  }
 },
 "nbformat": 4,
 "nbformat_minor": 1
}

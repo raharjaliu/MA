{
 "cells": [
  {
   "cell_type": "code",
   "execution_count": 12,
   "metadata": {
    "collapsed": false
   },
   "outputs": [],
   "source": [
    "import pickle\n",
    "import random\n",
    "\n",
    "import pandas as pd\n",
    "import numpy as np\n",
    "from matplotlib import pyplot as pt\n",
    "from scipy.stats import f\n",
    "from scipy import optimize\n",
    "from scipy import stats as st\n",
    "from scipy import stats\n",
    "from sklearn import linear_model\n",
    "from sklearn.metrics import mean_squared_error, r2_score\n",
    "from sklearn.cross_validation import cross_val_score\n",
    "from scipy import stats\n",
    "from scipy.stats import lognorm\n",
    "from scipy.stats import gamma\n",
    "from scipy.stats import pearsonr\n",
    "\n",
    "%matplotlib inline"
   ]
  },
  {
   "cell_type": "code",
   "execution_count": 2,
   "metadata": {
    "collapsed": true
   },
   "outputs": [],
   "source": [
    "def stringify_position(position):\n",
    "    \n",
    "    if position < 10:\n",
    "        pos = \"0%d\" % position\n",
    "    else:\n",
    "        pos = str(position)\n",
    "        \n",
    "    return pos"
   ]
  },
  {
   "cell_type": "markdown",
   "metadata": {},
   "source": [
    "## 1. Cell cycle duration (CCD) analysis"
   ]
  },
  {
   "cell_type": "code",
   "execution_count": 40,
   "metadata": {
    "collapsed": false
   },
   "outputs": [],
   "source": [
    "dat_tg = pickle.load(open(\"../results/unsyn_two_generation.p\", \"rb\" ))"
   ]
  },
  {
   "cell_type": "code",
   "execution_count": 41,
   "metadata": {
    "collapsed": false
   },
   "outputs": [],
   "source": [
    "## copied global_analysis.py\n",
    "\n",
    "lifetimes = {}\n",
    "for p in set(list(range(56))[48:]) - set([4, 5, 11, 13, 19, 20, 37, 38, 44, 53, 54, 60]):\n",
    "    pos = stringify_position(p)\n",
    "    for tr in dat_tg[pos][\"TREES\"]:\n",
    "        child1 = dat_tg[pos][\"TREES\"][tr][\"BRANCH\"][tr][0]\n",
    "        child2 = dat_tg[pos][\"TREES\"][tr][\"BRANCH\"][tr][1]\n",
    "        last_time =  dat_tg[pos][\"TREES\"][tr][\"POSITION_T\"][tr][-1]\n",
    "        first_time1 = (last_time + dat_tg[pos][\"TREES\"][tr][\"POSITION_T\"][child1][0]) / 2.\n",
    "        first_time2 = (dat_tg[pos][\"TREES\"][tr][\"POSITION_T\"][child2][0]) / 2.\n",
    "        last_time1 = dat_tg[pos][\"TREES\"][tr][\"POSITION_T\"][child1][-1]\n",
    "        last_time2 = dat_tg[pos][\"TREES\"][tr][\"POSITION_T\"][child2][-1]\n",
    "        \n",
    "        if pos not in lifetimes:\n",
    "            lifetimes[pos] = [last_time1 - first_time1]\n",
    "        else:\n",
    "            lifetimes[pos].append(last_time1 - first_time1)\n",
    "        lifetimes[pos].append(last_time2 - first_time2)"
   ]
  },
  {
   "cell_type": "code",
   "execution_count": 119,
   "metadata": {
    "collapsed": true
   },
   "outputs": [],
   "source": [
    "tim_unsyn = pd.read_csv(\"../results/unsyn_ccyclel.csv\",index_col=0)\n",
    "tim_unsyn = tim_unsyn[(tim_unsyn.TIME < 32) & ((tim_unsyn.TIME > 12))]\n",
    "# tim_unsyn = tim_unsyn[(tim_unsyn.POSITION >= 48) & (tim_unsyn.POSITION <= 55)]\n",
    "tim_unsyn = tim_unsyn[tim_unsyn.index < tim_unsyn.index.max()]"
   ]
  },
  {
   "cell_type": "code",
   "execution_count": 39,
   "metadata": {
    "collapsed": false
   },
   "outputs": [
    {
     "data": {
      "text/plain": [
       "[<matplotlib.lines.Line2D at 0x18ade959a58>]"
      ]
     },
     "execution_count": 39,
     "metadata": {},
     "output_type": "execute_result"
    },
    {
     "data": {
      "image/png": "[encoded data removed]",
      "text/plain": [
       "<matplotlib.figure.Figure at 0x18ade895320>"
      ]
     },
     "metadata": {},
     "output_type": "display_data"
    }
   ],
   "source": [
    "pt.hist(tim_unsyn.TIME, color=\"gray\")\n",
    "pt.xlim(0, 36)\n",
    "pt.title(\"Cell cycle lengths, control (%d lines, mean %f, median %f)\" % (tim_unsyn.index.size, np.mean(tim_unsyn.TIME), np.median(tim_unsyn.TIME)))\n",
    "pt.ylabel(\"Cells\")\n",
    "pt.xlabel(\"Cell cycle length (h)\")\n",
    "\n",
    "## plot KDE\n",
    "kde = stats.gaussian_kde(tim_unsyn.TIME)\n",
    "x = np.arange(0, 36, .1)\n",
    "y = [v * tim_unsyn.size for v in kde(x)]\n",
    "pt.plot(x, y, 'b', linewidth=3)\n",
    "\n",
    "# pt.savefig(\"D:/Dropbox/Edu/MA/20171022_results/images/cell_cycle/unsyn_cell_cycle_length_control.pdf\")"
   ]
  },
  {
   "cell_type": "code",
   "execution_count": 122,
   "metadata": {
    "collapsed": false
   },
   "outputs": [
    {
     "name": "stdout",
     "output_type": "stream",
     "text": [
      "size: 116, mean: 20.903736, std: 4.980958, median: 20.458333)\n",
      "gamma -- shape:5.688055, loc:8.489997, scale:2.182422\n",
      "lognorm -- shape:0.200416, loc:-4.176936, scale:24.585982\n"
     ]
    },
    {
     "data": {
      "image/png": "[encoded data removed]",
      "text/plain": [
       "<matplotlib.figure.Figure at 0x1df3009b1d0>"
      ]
     },
     "metadata": {},
     "output_type": "display_data"
    }
   ],
   "source": [
    "pt.hist(tim_unsyn.TIME, color=\"gray\", bins=10)\n",
    "pt.ylabel(\"Cells\")\n",
    "pt.xlabel(\"Cell cycle duration (h)\")\n",
    "pt.xlim(0, 36)\n",
    "pt.gcf().set_size_inches(4,3)\n",
    "\n",
    "# pt.title(\"Cell cycle lengths, control (%d lines, mean %f, median %f)\" % (tim_unsyn.index.size, np.mean(tim_unsyn.TIME), np.median(tim_unsyn.TIME)))\n",
    "\n",
    "print(\"size: %d, mean: %f, std: %f, median: %f)\" % (int(tim_unsyn.index.size / 2) * 2, \n",
    "                                                    np.mean(tim_unsyn.TIME), \n",
    "                                                    np.std(tim_unsyn.TIME),\n",
    "                                                    np.median(tim_unsyn.TIME)))\n",
    "\n",
    "## plot gamma\n",
    "a, loc, b = gamma.fit(tim_unsyn.TIME)\n",
    "x = np.arange(0, 36, .1)\n",
    "y = gamma.pdf(x, a, loc, b)\n",
    "y = [val * tim_unsyn.size for val in y]\n",
    "\n",
    "print(\"gamma -- shape:%f, loc:%f, scale:%f\" % (a, loc, b))\n",
    "pt.plot(x, y, label=\"gamma\", c=\"b\", linewidth=2)\n",
    "\n",
    "## plot lognorm\n",
    "shp, loc, scl = lognorm.fit(tim_unsyn.TIME)\n",
    "x = np.arange(0, 36, .1)\n",
    "y = [v * tim_unsyn.size for v in lognorm.pdf(x, shp, loc, scl)]\n",
    "print(\"lognorm -- shape:%f, loc:%f, scale:%f\" % (shp, loc, scl))\n",
    "pt.plot(x, y, label=\"lognorm\", c=\"r\", linewidth=2)\n",
    "\n",
    "pt.savefig(\"D:/Dropbox/Edu/MA/pics/cell_cycle/unsyn_cell_cycle_length_control.pdf\")\n",
    "# pt.savefig(\"D:/Dropbox/Edu/MA/20171022_results/images/cell_cycle/unsyn_cell_cycle_length_control.pdf\")"
   ]
  },
  {
   "cell_type": "code",
   "execution_count": 102,
   "metadata": {
    "collapsed": false
   },
   "outputs": [],
   "source": [
    "tim_syn = pd.read_csv(\"../results/syn_ccyclel.csv\", index_col=0)\n",
    "tim_syn = tim_syn[tim_syn.index < tim_syn.index.max()]"
   ]
  },
  {
   "cell_type": "code",
   "execution_count": 128,
   "metadata": {
    "collapsed": false
   },
   "outputs": [
    {
     "name": "stdout",
     "output_type": "stream",
     "text": [
      "size: 26, mean: 20.753205, std: 1.323780, median: 21.125000)\n",
      "gamma -- shape:345.341138, loc:-4.264782, scale:0.072413\n",
      "lognorm -- shape:0.002966, loc:-426.145703, scale:446.896508\n"
     ]
    },
    {
     "data": {
      "image/png": "[encoded data removed]",
      "text/plain": [
       "<matplotlib.figure.Figure at 0x1df300bc7b8>"
      ]
     },
     "metadata": {},
     "output_type": "display_data"
    }
   ],
   "source": [
    "pt.hist(tim_syn.TIME, color=\"gray\", bins=10)\n",
    "pt.ylabel(\"Cells\")\n",
    "pt.xlabel(\"Cell cycle duration (h)\")\n",
    "pt.xlim(0, 36)\n",
    "pt.gcf().set_size_inches(4,3)\n",
    "\n",
    "# pt.title(\"Cell cycle lengths, control (%d lines, mean %f, median %f)\" % (tim_syn.index.size, np.mean(tim_syn.TIME), np.median(tim_syn.TIME)))\n",
    "\n",
    "print(\"size: %d, mean: %f, std: %f, median: %f)\" % (int(tim_syn.index.size / 2) * 2, \n",
    "                                                    np.mean(tim_syn.TIME), \n",
    "                                                    np.std(tim_syn.TIME),\n",
    "                                                    np.median(tim_syn.TIME)))\n",
    "\n",
    "## plot gamma\n",
    "a, loc, b = gamma.fit(tim_syn.TIME)\n",
    "x = np.arange(0, 36, .1)\n",
    "y = gamma.pdf(x, a, loc, b)\n",
    "y = [val * tim_syn.index.size for val in y]\n",
    "\n",
    "print(\"gamma -- shape:%f, loc:%f, scale:%f\" % (a, loc, b))\n",
    "pt.plot(x, y, label=\"gamma\", c=\"b\", linewidth=2)\n",
    "\n",
    "## plot lognorm\n",
    "shp, loc, scl = lognorm.fit(tim_syn.TIME)\n",
    "x = np.arange(0, 36, .1)\n",
    "y = [v * tim_syn.index.size for v in lognorm.pdf(x, shp, loc, scl)]\n",
    "print(\"lognorm -- shape:%f, loc:%f, scale:%f\" % (shp, loc, scl))\n",
    "pt.plot(x, y, label=\"lognorm\", c=\"r\", linewidth=2)\n",
    "\n",
    "pt.savefig(\"D:/Dropbox/Edu/MA/pics/cell_cycle/syn_cell_cycle_length_control.pdf\")\n",
    "# pt.savefig(\"D:/Dropbox/Edu/MA/20171022_results/images/cell_cycle/syn_cell_cycle_length_control.pdf\")"
   ]
  },
  {
   "cell_type": "markdown",
   "metadata": {},
   "source": [
    "## 1.1 Sisters cell cycle duration (CCD) analysis"
   ]
  },
  {
   "cell_type": "code",
   "execution_count": 85,
   "metadata": {
    "collapsed": true
   },
   "outputs": [],
   "source": [
    "def select_random_pair(time):\n",
    "    \n",
    "    timec = time.copy()\n",
    "    diffu = []\n",
    "    diffu_pairs = []\n",
    "    num = 2\n",
    "    \n",
    "    while num < len(time):\n",
    "        ch1i = random.randint(0, len(timec) - 1)\n",
    "        ch1 = timec[ch1i]\n",
    "        del timec[ch1i]\n",
    "    \n",
    "        ch2i  = random.randint(0, len(timec) - 1)\n",
    "        ch2 = timec[ch2i]\n",
    "        del timec[ch2i]\n",
    "    \n",
    "        diffu.append(np.abs(ch1 - ch2))\n",
    "        diffu_pairs.append((ch1, ch2))\n",
    "    \n",
    "        num += 2\n",
    "    return diffu, diffu_pairs"
   ]
  },
  {
   "cell_type": "code",
   "execution_count": 87,
   "metadata": {
    "collapsed": false
   },
   "outputs": [],
   "source": [
    "tim_unsyn = pd.read_csv(\"../results/unsyn_ccyclel.csv\",index_col=0)\n",
    "tim_unsyn = tim_unsyn[(tim_unsyn.TIME < 32) & ((tim_unsyn.TIME > 12))]\n",
    "# tim_unsyn = tim_unsyn[(tim_unsyn.POSITION >= 48) & (tim_unsyn.POSITION <= 55)]\n",
    "tim_unsyn = tim_unsyn[tim_unsyn.index < tim_unsyn.index.max()]"
   ]
  },
  {
   "cell_type": "code",
   "execution_count": 103,
   "metadata": {
    "collapsed": false
   },
   "outputs": [],
   "source": [
    "tim_syn = pd.read_csv(\"../results/syn_ccyclel.csv\", index_col=0)\n",
    "tim_syn = tim_syn[tim_syn.index < tim_syn.index.max()]"
   ]
  },
  {
   "cell_type": "code",
   "execution_count": 73,
   "metadata": {
    "collapsed": false
   },
   "outputs": [
    {
     "name": "stdout",
     "output_type": "stream",
     "text": [
      "3.65058479532\n",
      "3.51754385965\n"
     ]
    }
   ],
   "source": [
    "avdiff = float(\"inf\")\n",
    "diffu = []\n",
    "diffu_pairs = []\n",
    "while avdiff > 3.6:\n",
    "    \n",
    "    diffu, diffu_pairs = select_random_pair(tim_unsyn.TIME.tolist())\n",
    "\n",
    "    avdiff = np.sum(diffu) / len(diffu)\n",
    "    \n",
    "    if avdiff < 3.7:\n",
    "        print(avdiff)\n",
    "        \n",
    "res = {\"diffu\": diffu,\n",
    "      \"diffu_pairs\": diffu_pairs}\n",
    "        \n",
    "pickle.dump(res, open(\"../results/unsyn_ccd_diffs_sisters.p\", \"wb\"))"
   ]
  },
  {
   "cell_type": "code",
   "execution_count": 74,
   "metadata": {
    "collapsed": false
   },
   "outputs": [
    {
     "name": "stdout",
     "output_type": "stream",
     "text": [
      "0.4375\n",
      "0.444444444444\n",
      "0.423611111111\n",
      "0.402777777778\n",
      "0.326388888889\n"
     ]
    }
   ],
   "source": [
    "avdiff = float(\"inf\")\n",
    "diffu = []\n",
    "diffu_pairs = []\n",
    "while avdiff > 0.36:\n",
    "    \n",
    "    diffu, diffu_pairs = select_random_pair(tim_syn.TIME.tolist())\n",
    "\n",
    "    avdiff = np.sum(diffu) / len(diffu)\n",
    "    \n",
    "    if avdiff < 0.45:\n",
    "        print(avdiff)\n",
    "    \n",
    "res = {\"diffu\": diffu,\n",
    "      \"diffu_pairs\": diffu_pairs}    \n",
    "pickle.dump(res, open(\"../results/syn_ccd_diffs_sisters.p\", \"wb\"))"
   ]
  },
  {
   "cell_type": "code",
   "execution_count": 82,
   "metadata": {
    "collapsed": false
   },
   "outputs": [],
   "source": [
    "res_unsyn = pickle.load(open(\"../results/unsyn_ccd_diffs_sisters.p\", \"rb\"))\n",
    "res_syn = pickle.load(open(\"../results/syn_ccd_diffs_sisters.p\", \"rb\"))"
   ]
  },
  {
   "cell_type": "code",
   "execution_count": 134,
   "metadata": {
    "collapsed": false
   },
   "outputs": [
    {
     "data": {
      "image/png": "[encoded data removed]",
      "text/plain": [
       "<matplotlib.figure.Figure at 0x1edbbf09ba8>"
      ]
     },
     "metadata": {},
     "output_type": "display_data"
    }
   ],
   "source": [
    "pt.rcParams.update({'font.size': 14})\n",
    "pt.hist(res_unsyn[\"diffu\"], color=\"grey\", bins=np.arange(0, int(max(res_unsyn[\"diffu\"]))))\n",
    "pt.ylabel(\"Cells\")\n",
    "pt.xlabel(\"Cell cycle duration (h)\")\n",
    "pt.xlim(0, 12)\n",
    "\n",
    "pt.gcf().set_size_inches(5,3)\n",
    "\n",
    "pt.savefig(\"D:/Dropbox/Edu/MA/pics/cell_cycle/ccd_hist_unsyn.pdf\")"
   ]
  },
  {
   "cell_type": "code",
   "execution_count": 130,
   "metadata": {
    "collapsed": false
   },
   "outputs": [
    {
     "name": "stdout",
     "output_type": "stream",
     "text": [
      "best: (0.5258190015338563, 2.664662343618629e-05)\n",
      "random: (0.04036267396453587, 0.76562547191548669)\n"
     ]
    },
    {
     "data": {
      "image/png": "[encoded data removed]",
      "text/plain": [
       "<matplotlib.figure.Figure at 0x1edb7db43c8>"
      ]
     },
     "metadata": {},
     "output_type": "display_data"
    }
   ],
   "source": [
    "pt.rcParams.update({'font.size': 14})\n",
    "\n",
    "randpairs_unsyn = select_random_pair(tim_unsyn.TIME.tolist())[1]\n",
    "ch1r_unsyn = [a[0] for a in randpairs_unsyn]\n",
    "ch2r_unsyn = [a[1] for a in randpairs_unsyn]\n",
    "\n",
    "ch1_unsyn = [a[0] for a in res_unsyn[\"diffu_pairs\"]]\n",
    "ch2_unsyn = [a[1] for a in res_unsyn[\"diffu_pairs\"]]\n",
    "\n",
    "print(\"best: \" + str(pearsonr(ch1_unsyn, ch2_unsyn)))\n",
    "print(\"random: \" + str(pearsonr(ch1r_unsyn, ch2r_unsyn)))\n",
    "\n",
    "pt.scatter(ch1_unsyn, ch2_unsyn, c=\"black\", lw = 0)\n",
    "pt.scatter(ch1r_unsyn, ch2r_unsyn, c=\"red\", marker='^', lw = 0)\n",
    "\n",
    "pt.xlabel(\"$T_{div}$of sister 1 (hrs)\")\n",
    "pt.ylabel(\"$T_{div}$ of sister 2 (hrs)\")\n",
    "\n",
    "pt.xlim(11, 33)\n",
    "pt.ylim(11, 33)\n",
    "\n",
    "pt.gcf().set_size_inches(4, 4)\n",
    "\n",
    "pt.savefig(\"D:/Dropbox/Edu/MA/pics/cell_cycle/ccd_scatter_unsyn.pdf\")"
   ]
  },
  {
   "cell_type": "code",
   "execution_count": 135,
   "metadata": {
    "collapsed": false
   },
   "outputs": [
    {
     "data": {
      "image/png": "[encoded data removed]",
      "text/plain": [
       "<matplotlib.figure.Figure at 0x1edbb5a0dd8>"
      ]
     },
     "metadata": {},
     "output_type": "display_data"
    }
   ],
   "source": [
    "pt.rcParams.update({'font.size': 14})\n",
    "\n",
    "pt.hist(res_syn[\"diffu\"], color=\"grey\", bins=np.arange(0, int(max(res_unsyn[\"diffu\"]))))\n",
    "pt.ylabel(\"Cells\")\n",
    "pt.xlabel(\"Cell cycle duration (h)\")\n",
    "# pt.yticks([0, 1, 2, 3, 4])\n",
    "\n",
    "pt.gcf().set_size_inches(5,3)\n",
    "\n",
    "pt.savefig(\"D:/Dropbox/Edu/MA/pics/cell_cycle/ccd_hist_syn.pdf\")"
   ]
  },
  {
   "cell_type": "code",
   "execution_count": 128,
   "metadata": {
    "collapsed": false
   },
   "outputs": [
    {
     "name": "stdout",
     "output_type": "stream",
     "text": [
      "best: (0.95569545631530972, 1.2478141671584061e-06)\n",
      "random: (-0.29539947087779028, 0.35124936463156819)\n"
     ]
    },
    {
     "data": {
      "image/png": "[encoded data removed]",
      "text/plain": [
       "<matplotlib.figure.Figure at 0x1edb3d5c630>"
      ]
     },
     "metadata": {},
     "output_type": "display_data"
    }
   ],
   "source": [
    "pt.rcParams.update({'font.size': 14})\n",
    "\n",
    "randpairs_syn = select_random_pair(tim_syn.TIME.tolist())[1]\n",
    "ch1r_syn = [a[0] for a in randpairs_syn]\n",
    "ch2r_syn = [a[1] for a in randpairs_syn]\n",
    "\n",
    "ch1_syn = [a[0] for a in res_syn[\"diffu_pairs\"]]\n",
    "ch2_syn = [a[1] for a in res_syn[\"diffu_pairs\"]]\n",
    "\n",
    "print(\"best: \" + str(pearsonr(ch1_syn, ch2_syn)))\n",
    "print(\"random: \" + str(pearsonr(ch1r_syn, ch2r_syn)))\n",
    "\n",
    "pt.scatter(ch1_syn, ch2_syn, c=\"black\", lw = 0)\n",
    "pt.scatter(ch1r_syn, ch2r_syn, c=\"red\", marker='^', lw = 0)\n",
    "\n",
    "pt.xlabel(\"$T_{div}$of sister 1 (hrs)\")\n",
    "pt.ylabel(\"$T_{div}$ of sister 2 (hrs)\")\n",
    "\n",
    "pt.gcf().set_size_inches(4, 4)\n",
    "\n",
    "pt.xlim(11, 33)\n",
    "pt.ylim(11, 33)\n",
    "\n",
    "pt.savefig(\"D:/Dropbox/Edu/MA/pics/cell_cycle/ccd_scatter_syn.pdf\")"
   ]
  },
  {
   "cell_type": "markdown",
   "metadata": {},
   "source": [
    "# 2. TIC vs TTD"
   ]
  },
  {
   "cell_type": "code",
   "execution_count": 13,
   "metadata": {
    "collapsed": true
   },
   "outputs": [],
   "source": [
    "##load pickle\n",
    "dat_f = pickle.load(open(\"../results/unsyn_filtered_data_divided_before_treatment.p\", \"rb\"))"
   ]
  },
  {
   "cell_type": "code",
   "execution_count": 9,
   "metadata": {
    "collapsed": true
   },
   "outputs": [],
   "source": [
    "##load pickle\n",
    "dat_ds = pickle.load(open(\"../results/unsyn_filtered_data_pi_sub.p\", \"rb\"))"
   ]
  },
  {
   "cell_type": "code",
   "execution_count": 10,
   "metadata": {
    "collapsed": true
   },
   "outputs": [],
   "source": [
    "## copied global_analysis.py\n",
    "\n",
    "## create reverse lookup for slit in PI video\n",
    "\n",
    "slit_tree_map_ds = {}\n",
    "\n",
    "for pos in dat_ds:\n",
    "    slit_tree_map_ds[pos] = {}\n",
    "    for tr in dat_ds[pos]['TREES']:\n",
    "        slit_id = dat_ds[pos]['TREES'][tr]['SLIT_ID']\n",
    "        if slit_id not in slit_tree_map_ds[pos]:\n",
    "            slit_tree_map_ds[pos][slit_id] = [tr]\n",
    "        else:\n",
    "            slit_tree_map_ds[pos][slit_id].append(tr)"
   ]
  },
  {
   "cell_type": "code",
   "execution_count": 11,
   "metadata": {
    "collapsed": true
   },
   "outputs": [],
   "source": [
    "## copied global_analysis.py\n",
    "\n",
    "## create reverse lookup for slit in BF video\n",
    "\n",
    "slit_tree_map_bf = {}\n",
    "\n",
    "for pos in dat_f:\n",
    "    slit_tree_map_bf[pos] = {}\n",
    "    for tr in dat_f[pos]['TREES']:\n",
    "        slit_id = dat_f[pos]['TREES'][tr]['SLIT_ID']\n",
    "        if slit_id not in slit_tree_map_bf[pos]:\n",
    "            slit_tree_map_bf[pos][slit_id] = [tr]\n",
    "        else:\n",
    "            slit_tree_map_bf[pos][slit_id].append(tr)\n",
    "            \n",
    "            "
   ]
  },
  {
   "cell_type": "code",
   "execution_count": 12,
   "metadata": {
    "collapsed": false
   },
   "outputs": [],
   "source": [
    "## copied global_analysis.py\n",
    "\n",
    "correlation_analysis = {}\n",
    "ttd_analysis = {}\n",
    "ttd_analysis_double = {}\n",
    "\n",
    "for pos in slit_tree_map_ds.keys():\n",
    "    correlation_analysis[pos] = []\n",
    "    ttd_analysis[pos] = []\n",
    "    ttd_analysis_double[pos] = []\n",
    "    for slit_id in slit_tree_map_ds[pos]:\n",
    "        if slit_id in slit_tree_map_bf[pos]:\n",
    "            \n",
    "            ## double track == TTD and correlation\n",
    "            if len(slit_tree_map_ds[pos][slit_id]) == 2:\n",
    "                \n",
    "                # extract div time from BF tree\n",
    "                tr = slit_tree_map_bf[pos][slit_id][0]\n",
    "#                 tr_div_time = dat_fat[pos]['TREES'][tr]['POSITION_T'][tr][-1]\n",
    "                tr_div_time = dat_f[pos]['TREES'][tr]['POSITION_T'][tr][-1]\n",
    "                \n",
    "                # extract death time from DS tree I and II\n",
    "                tr_ds_1 = slit_tree_map_ds[pos][slit_id][0]\n",
    "                tr_ds_2 = slit_tree_map_ds[pos][slit_id][1]\n",
    "                tr_death_time_1 = dat_ds[pos]['TREES'][tr_ds_1]['POSITION_T'][tr_ds_1][1]\n",
    "                tr_death_time_2 = dat_ds[pos]['TREES'][tr_ds_2]['POSITION_T'][tr_ds_2][1]\n",
    "                correlation_analysis[pos].append((tr_div_time, tr_death_time_1, tr_death_time_2))\n",
    "                ttd_analysis[pos].append((tr_div_time, tr_death_time_1))\n",
    "                ttd_analysis[pos].append((tr_div_time, tr_death_time_2))\n",
    "                ttd_analysis_double[pos].append((tr_div_time, tr_death_time_1))\n",
    "                ttd_analysis_double[pos].append((tr_div_time, tr_death_time_2))\n",
    "                \n",
    "            elif len(slit_tree_map_ds[pos][slit_id]) == 1:\n",
    "                \n",
    "                # extract div time from BF tree\n",
    "                tr = slit_tree_map_bf[pos][slit_id][0]\n",
    "#                 tr_div_time = dat_fat[pos]['TREES'][tr]['POSITION_T'][tr][-1]\n",
    "                tr_div_time = dat_f[pos]['TREES'][tr]['POSITION_T'][tr][-1]\n",
    "                \n",
    "                # extract death time from DS tree\n",
    "                tr_ds = slit_tree_map_ds[pos][slit_id][0]\n",
    "                tr_death_time = dat_ds[pos]['TREES'][tr_ds]['POSITION_T'][tr_ds][1]\n",
    "                \n",
    "                ttd_analysis[pos].append((tr_div_time, tr_death_time))"
   ]
  },
  {
   "cell_type": "code",
   "execution_count": 13,
   "metadata": {
    "collapsed": false
   },
   "outputs": [],
   "source": [
    "treatment_mapping = {}\n",
    "for pos in list(range(1, 9)):treatment_mapping[pos] = 1\n",
    "for pos in list(range(9, 16)):treatment_mapping[pos] = 2\n",
    "for pos in list(range(16, 24)):treatment_mapping[pos] = 3\n",
    "for pos in list(range(24, 32)):treatment_mapping[pos] = 4\n",
    "for pos in list(range(32, 40)):treatment_mapping[pos] = 5\n",
    "for pos in list(range(40, 48)):treatment_mapping[pos] = 6\n",
    "for pos in list(range(48, 56)):treatment_mapping[pos] = 7\n",
    "for pos in list(range(56, 64)):treatment_mapping[pos] = 8"
   ]
  },
  {
   "cell_type": "code",
   "execution_count": 52,
   "metadata": {
    "collapsed": false
   },
   "outputs": [],
   "source": [
    "## flatten the data structure\n",
    "\n",
    "positions = []\n",
    "division_times = []\n",
    "death_times = []\n",
    "treatments = []\n",
    "\n",
    "for pos in ttd_analysis:\n",
    "    div_times_p = [e[0] for e in ttd_analysis[pos]]\n",
    "    dth_times_p = [e[1] for e in ttd_analysis[pos]]\n",
    "    pos_p = [int(pos)] * len(div_times_p)\n",
    "    trt_p = [treatment_mapping[int(pos)]] * len(div_times_p)\n",
    "    \n",
    "    positions += pos_p\n",
    "    division_times += div_times_p\n",
    "    death_times += dth_times_p\n",
    "    treatments += trt_p\n",
    "    \n",
    "division_times = [x / 3600. for x in division_times]\n",
    "death_times = [x / 3600. for x in death_times]\n",
    "    \n",
    "dat = pd.DataFrame({\"POSITION\": positions, \n",
    "                    \"DIVISION_TIME\": division_times, \n",
    "                    \"DEATH_TIME\": death_times,\n",
    "                    \"TREATMENT\": treatments})\n",
    "dat[\"TIME_IN_CYCLE\"] = 21 - dat.DIVISION_TIME\n",
    "dat[\"TIME_TO_DEATH\"] = dat.DEATH_TIME - 21\n",
    "\n",
    "dat = dat[dat.DEATH_TIME >= 21]\n",
    "dat = dat.reset_index(drop=True)"
   ]
  },
  {
   "cell_type": "code",
   "execution_count": 164,
   "metadata": {
    "collapsed": false
   },
   "outputs": [
    {
     "data": {
      "text/html": [
       "<div>\n",
       "<table border=\"1\" class=\"dataframe\">\n",
       "  <thead>\n",
       "    <tr style=\"text-align: right;\">\n",
       "      <th></th>\n",
       "      <th>DEATH_TIME</th>\n",
       "      <th>DIVISION_TIME</th>\n",
       "      <th>POSITION</th>\n",
       "      <th>TREATMENT</th>\n",
       "      <th>TIME_IN_CYCLE</th>\n",
       "      <th>TIME_TO_DEATH</th>\n",
       "    </tr>\n",
       "  </thead>\n",
       "  <tbody>\n",
       "    <tr>\n",
       "      <th>0</th>\n",
       "      <td>26.5</td>\n",
       "      <td>13.333333</td>\n",
       "      <td>2</td>\n",
       "      <td>1</td>\n",
       "      <td>7.666667</td>\n",
       "      <td>5.5</td>\n",
       "    </tr>\n",
       "    <tr>\n",
       "      <th>1</th>\n",
       "      <td>30.0</td>\n",
       "      <td>6.166667</td>\n",
       "      <td>2</td>\n",
       "      <td>1</td>\n",
       "      <td>14.833333</td>\n",
       "      <td>9.0</td>\n",
       "    </tr>\n",
       "    <tr>\n",
       "      <th>2</th>\n",
       "      <td>26.5</td>\n",
       "      <td>0.833333</td>\n",
       "      <td>2</td>\n",
       "      <td>1</td>\n",
       "      <td>20.166667</td>\n",
       "      <td>5.5</td>\n",
       "    </tr>\n",
       "    <tr>\n",
       "      <th>3</th>\n",
       "      <td>38.0</td>\n",
       "      <td>0.166667</td>\n",
       "      <td>2</td>\n",
       "      <td>1</td>\n",
       "      <td>20.833333</td>\n",
       "      <td>17.0</td>\n",
       "    </tr>\n",
       "    <tr>\n",
       "      <th>4</th>\n",
       "      <td>39.5</td>\n",
       "      <td>0.166667</td>\n",
       "      <td>2</td>\n",
       "      <td>1</td>\n",
       "      <td>20.833333</td>\n",
       "      <td>18.5</td>\n",
       "    </tr>\n",
       "  </tbody>\n",
       "</table>\n",
       "</div>"
      ],
      "text/plain": [
       "   DEATH_TIME  DIVISION_TIME  POSITION  TREATMENT  TIME_IN_CYCLE  \\\n",
       "0        26.5      13.333333         2          1       7.666667   \n",
       "1        30.0       6.166667         2          1      14.833333   \n",
       "2        26.5       0.833333         2          1      20.166667   \n",
       "3        38.0       0.166667         2          1      20.833333   \n",
       "4        39.5       0.166667         2          1      20.833333   \n",
       "\n",
       "   TIME_TO_DEATH  \n",
       "0            5.5  \n",
       "1            9.0  \n",
       "2            5.5  \n",
       "3           17.0  \n",
       "4           18.5  "
      ]
     },
     "execution_count": 164,
     "metadata": {},
     "output_type": "execute_result"
    }
   ],
   "source": [
    "dat.head()"
   ]
  },
  {
   "cell_type": "code",
   "execution_count": 57,
   "metadata": {
    "collapsed": false
   },
   "outputs": [],
   "source": [
    "## \n",
    "\n",
    "treatments = []\n",
    "cutoffs = []\n",
    "pvals = []\n",
    "\n",
    "for trtmt in dat.TREATMENT.unique():\n",
    "    dat_t = dat[dat.TREATMENT == trtmt]\n",
    "    \n",
    "    for co in np.arange(1, 22, 1):\n",
    "        \n",
    "        s1 = dat_t[dat_t.TIME_IN_CYCLE < co][\"TIME_TO_DEATH\"]\n",
    "        s2 = dat_t[dat_t.TIME_IN_CYCLE >= co][\"TIME_TO_DEATH\"]\n",
    "        \n",
    "        F = np.var(s1) / (np.var(s2) + .000000001)\n",
    "        \n",
    "        df1 = len(s1) - 1\n",
    "        df2 = len(s2) - 1\n",
    "\n",
    "        p_value = f.sf(F, df1, df2)\n",
    "        \n",
    "        treatments.append(trtmt)\n",
    "        cutoffs.append(co)\n",
    "        pvals.append(p_value)        \n",
    "        \n",
    "f_results = pd.DataFrame({\"TREATMENT\": treatments,\n",
    "                          \"CUTOFF\": cutoffs, \n",
    "                          \"P_VAL\": pvals})"
   ]
  },
  {
   "cell_type": "code",
   "execution_count": 58,
   "metadata": {
    "collapsed": true
   },
   "outputs": [],
   "source": [
    "cmap = {1:'#1f77b4',\n",
    "       2:'#ff7f0e',\n",
    "       3:'#2ca02c',\n",
    "       4:'#d62728',\n",
    "       5:'#9467bd',\n",
    "       6:'#8c564d',\n",
    "       7:'#e377c2',\n",
    "       8:'#7f7f7f'}"
   ]
  },
  {
   "cell_type": "code",
   "execution_count": 116,
   "metadata": {
    "collapsed": false
   },
   "outputs": [
    {
     "data": {
      "text/plain": [
       "<matplotlib.legend.Legend at 0x1e37f2c4b70>"
      ]
     },
     "execution_count": 116,
     "metadata": {},
     "output_type": "execute_result"
    },
    {
     "data": {
      "image/png": "[encoded data removed]",
      "text/plain": [
       "<matplotlib.figure.Figure at 0x1e37f59ee80>"
      ]
     },
     "metadata": {},
     "output_type": "display_data"
    }
   ],
   "source": [
    "for tr in f_results.TREATMENT.unique():\n",
    "    \n",
    "    fr_t = f_results[f_results.TREATMENT == tr]\n",
    "    \n",
    "    x = fr_t.CUTOFF\n",
    "#     xnew = np.linspace(x.min(), x.max(), 300)\n",
    "    \n",
    "    y = fr_t.P_VAL\n",
    "#     y = spline(x, y, xnew)\n",
    "    \n",
    "    pt.plot(x, y, label=str(tr), c=cmap[tr])\n",
    "pt.title(\"F-Test of cutoff-separated populations' time-to-deaths\")\n",
    "pt.xlabel(\"T_tic cutoff (h)\")\n",
    "pt.ylabel(\"p-value\")\n",
    "pt.gcf().set_size_inches(10, 6)\n",
    "pt.legend(loc=\"best\")"
   ]
  },
  {
   "cell_type": "markdown",
   "metadata": {},
   "source": [
    "## 3. Comparison of MSE and R2 of break point regression"
   ]
  },
  {
   "cell_type": "code",
   "execution_count": 148,
   "metadata": {
    "collapsed": false
   },
   "outputs": [],
   "source": [
    "treatments = []\n",
    "cutoffs = []\n",
    "mse_1 = []\n",
    "r2_1 = []\n",
    "mse_2 = []\n",
    "r2_2 = []\n",
    "r2_default = []\n",
    "mse_default = []\n",
    "\n",
    "for tr in f_results.TREATMENT.unique():\n",
    "    \n",
    "    dat_t = dat[dat.TREATMENT == trtmt]\n",
    "    \n",
    "    x = dat_t.TIME_IN_CYCLE.values\n",
    "    x = x.reshape(x.size, 1)\n",
    "    y = dat_t.DEATH_TIME.values\n",
    "    regr = linear_model.LinearRegression()\n",
    "    regr.fit(x, y)\n",
    "    yp = regr.predict(x)\n",
    "    mse_default += ([mean_squared_error(y, yp)] * 21)\n",
    "    r2_default += ([r2_score(y, yp)] * 21)\n",
    "    \n",
    "    \n",
    "    for co in np.arange(1, 22, 1):\n",
    "        \n",
    "        treatments.append(tr)\n",
    "        cutoffs.append(co)\n",
    "        \n",
    "        regr1 = linear_model.LinearRegression()\n",
    "        regr2 = linear_model.LinearRegression()\n",
    "    \n",
    "        x1 = dat_t[dat_t.TIME_IN_CYCLE < co][\"TIME_IN_CYCLE\"]\n",
    "        x1 = np.array([v + random.gauss(0, 0.001) for v in x1])\n",
    "        x1 = x1.reshape(x1.size, 1)\n",
    "        \n",
    "        x2 = dat_t[dat_t.TIME_IN_CYCLE >= co][\"TIME_IN_CYCLE\"]\n",
    "        x2 = np.array([v + random.gauss(0, 0.001) for v in x2])\n",
    "        x2 = x2.reshape(x2.size, 1)\n",
    "        \n",
    "        y1 = dat_t[dat_t.TIME_IN_CYCLE < co][\"DEATH_TIME\"]\n",
    "        y1 = np.array([v + random.gauss(0, 0.001) for v in y1])\n",
    "        \n",
    "        y2 = dat_t[dat_t.TIME_IN_CYCLE >= co][\"DEATH_TIME\"]\n",
    "        y2 = np.array([v + random.gauss(0, 0.001) for v in y2])\n",
    "        \n",
    "        if x1.size > 0:\n",
    "            regr1 = linear_model.LinearRegression()\n",
    "            regr1.fit(x1, y1)\n",
    "            y1p = regr1.predict(x1)\n",
    "            mse_1.append(mean_squared_error(y1, y1p))\n",
    "            r2_1.append(r2_score(y1, y1p))\n",
    "        else:\n",
    "            mse_1.append(None)\n",
    "            r2_1.append(None)\n",
    "        \n",
    "        if x2.size > 0:\n",
    "            regr2 = linear_model.LinearRegression()\n",
    "            regr2.fit(x2, y2)\n",
    "            y2p = regr1.predict(x2)\n",
    "            mse_2.append(mean_squared_error(y2, y2p))\n",
    "            r2_2.append(r2_score(y2, y2p))\n",
    "        else:\n",
    "            mse_2.append(None)\n",
    "            r2_2.append(None)\n",
    "            \n",
    "ls_results = pd.DataFrame({\"TREATMENT\": treatments, \n",
    "                          \"CUTOFF\": cutoffs, \n",
    "                          \"MSE_1\": mse_1, \n",
    "                          \"R2_1\": r2_1, \n",
    "                          \"MSE_2\": mse_2, \n",
    "                          \"R2_2\": r2_2})\n",
    "ls_results[\"MSE_TOTAL\"] = ls_results.MSE_1 + ls_results.MSE_2\n",
    "ls_results[\"R2_COMBINED_GEOM_MEAN\"] = np.nan\n",
    "sel = (ls_results[\"R2_1\"] >= 0) & (ls_results[\"R2_2\"] > 0) \n",
    "ls_results[sel][\"R2_COMBINED_GEOM_MEAN\"] = np.sqrt(ls_results[sel][\"R2_1\"] * ls_results[sel][\"R2_1\"])\n",
    "ls_results[\"R2_NO_CUTOFF\"] = r2_default\n",
    "ls_results[\"MSE_NO_CUTOFF\"] = mse_default"
   ]
  },
  {
   "cell_type": "code",
   "execution_count": 149,
   "metadata": {
    "collapsed": false,
    "scrolled": true
   },
   "outputs": [
    {
     "data": {
      "text/html": [
       "<div>\n",
       "<table border=\"1\" class=\"dataframe\">\n",
       "  <thead>\n",
       "    <tr style=\"text-align: right;\">\n",
       "      <th></th>\n",
       "      <th>CUTOFF</th>\n",
       "      <th>MSE_1</th>\n",
       "      <th>MSE_2</th>\n",
       "      <th>R2_1</th>\n",
       "      <th>R2_2</th>\n",
       "      <th>TREATMENT</th>\n",
       "      <th>MSE_TOTAL</th>\n",
       "      <th>R2_COMBINED_GEOM_MEAN</th>\n",
       "      <th>R2_NO_CUTOFF</th>\n",
       "      <th>MSE_NO_CUTOFF</th>\n",
       "    </tr>\n",
       "  </thead>\n",
       "  <tbody>\n",
       "    <tr>\n",
       "      <th>0</th>\n",
       "      <td>1</td>\n",
       "      <td>1.262177e-28</td>\n",
       "      <td>1.603698e+08</td>\n",
       "      <td>1.000000</td>\n",
       "      <td>-6.030955e+06</td>\n",
       "      <td>1</td>\n",
       "      <td>1.603698e+08</td>\n",
       "      <td>NaN</td>\n",
       "      <td>0.026901</td>\n",
       "      <td>24.984991</td>\n",
       "    </tr>\n",
       "    <tr>\n",
       "      <th>1</th>\n",
       "      <td>2</td>\n",
       "      <td>6.664824e-01</td>\n",
       "      <td>9.956303e+03</td>\n",
       "      <td>0.909826</td>\n",
       "      <td>-3.747377e+02</td>\n",
       "      <td>1</td>\n",
       "      <td>9.956969e+03</td>\n",
       "      <td>NaN</td>\n",
       "      <td>0.026901</td>\n",
       "      <td>24.984991</td>\n",
       "    </tr>\n",
       "    <tr>\n",
       "      <th>2</th>\n",
       "      <td>3</td>\n",
       "      <td>7.496457e+00</td>\n",
       "      <td>4.573188e+02</td>\n",
       "      <td>0.260598</td>\n",
       "      <td>-1.581273e+01</td>\n",
       "      <td>1</td>\n",
       "      <td>4.648153e+02</td>\n",
       "      <td>NaN</td>\n",
       "      <td>0.026901</td>\n",
       "      <td>24.984991</td>\n",
       "    </tr>\n",
       "    <tr>\n",
       "      <th>3</th>\n",
       "      <td>4</td>\n",
       "      <td>1.189349e+01</td>\n",
       "      <td>1.032067e+02</td>\n",
       "      <td>0.047717</td>\n",
       "      <td>-2.785466e+00</td>\n",
       "      <td>1</td>\n",
       "      <td>1.151001e+02</td>\n",
       "      <td>NaN</td>\n",
       "      <td>0.026901</td>\n",
       "      <td>24.984991</td>\n",
       "    </tr>\n",
       "    <tr>\n",
       "      <th>4</th>\n",
       "      <td>5</td>\n",
       "      <td>1.294434e+01</td>\n",
       "      <td>3.634457e+01</td>\n",
       "      <td>0.002277</td>\n",
       "      <td>-2.867458e-01</td>\n",
       "      <td>1</td>\n",
       "      <td>4.928891e+01</td>\n",
       "      <td>NaN</td>\n",
       "      <td>0.026901</td>\n",
       "      <td>24.984991</td>\n",
       "    </tr>\n",
       "    <tr>\n",
       "      <th>5</th>\n",
       "      <td>6</td>\n",
       "      <td>1.188955e+01</td>\n",
       "      <td>3.086670e+01</td>\n",
       "      <td>0.000130</td>\n",
       "      <td>-5.331553e-02</td>\n",
       "      <td>1</td>\n",
       "      <td>4.275625e+01</td>\n",
       "      <td>NaN</td>\n",
       "      <td>0.026901</td>\n",
       "      <td>24.984991</td>\n",
       "    </tr>\n",
       "    <tr>\n",
       "      <th>6</th>\n",
       "      <td>7</td>\n",
       "      <td>1.189084e+01</td>\n",
       "      <td>3.087641e+01</td>\n",
       "      <td>0.000127</td>\n",
       "      <td>-5.355522e-02</td>\n",
       "      <td>1</td>\n",
       "      <td>4.276725e+01</td>\n",
       "      <td>NaN</td>\n",
       "      <td>0.026901</td>\n",
       "      <td>24.984991</td>\n",
       "    </tr>\n",
       "    <tr>\n",
       "      <th>7</th>\n",
       "      <td>8</td>\n",
       "      <td>1.703376e+01</td>\n",
       "      <td>3.245323e+01</td>\n",
       "      <td>0.025516</td>\n",
       "      <td>-6.643985e-02</td>\n",
       "      <td>1</td>\n",
       "      <td>4.948699e+01</td>\n",
       "      <td>NaN</td>\n",
       "      <td>0.026901</td>\n",
       "      <td>24.984991</td>\n",
       "    </tr>\n",
       "    <tr>\n",
       "      <th>8</th>\n",
       "      <td>9</td>\n",
       "      <td>1.807543e+01</td>\n",
       "      <td>4.027252e+01</td>\n",
       "      <td>0.006204</td>\n",
       "      <td>-3.465398e-01</td>\n",
       "      <td>1</td>\n",
       "      <td>5.834796e+01</td>\n",
       "      <td>NaN</td>\n",
       "      <td>0.026901</td>\n",
       "      <td>24.984991</td>\n",
       "    </tr>\n",
       "    <tr>\n",
       "      <th>9</th>\n",
       "      <td>10</td>\n",
       "      <td>1.634065e+01</td>\n",
       "      <td>4.838066e+01</td>\n",
       "      <td>0.013306</td>\n",
       "      <td>-5.320895e-01</td>\n",
       "      <td>1</td>\n",
       "      <td>6.472131e+01</td>\n",
       "      <td>NaN</td>\n",
       "      <td>0.026901</td>\n",
       "      <td>24.984991</td>\n",
       "    </tr>\n",
       "    <tr>\n",
       "      <th>10</th>\n",
       "      <td>11</td>\n",
       "      <td>1.869056e+01</td>\n",
       "      <td>4.396917e+01</td>\n",
       "      <td>0.004915</td>\n",
       "      <td>-4.393889e-01</td>\n",
       "      <td>1</td>\n",
       "      <td>6.265973e+01</td>\n",
       "      <td>NaN</td>\n",
       "      <td>0.026901</td>\n",
       "      <td>24.984991</td>\n",
       "    </tr>\n",
       "    <tr>\n",
       "      <th>11</th>\n",
       "      <td>12</td>\n",
       "      <td>2.241875e+01</td>\n",
       "      <td>3.107890e+01</td>\n",
       "      <td>0.000837</td>\n",
       "      <td>-1.240318e-01</td>\n",
       "      <td>1</td>\n",
       "      <td>5.349765e+01</td>\n",
       "      <td>NaN</td>\n",
       "      <td>0.026901</td>\n",
       "      <td>24.984991</td>\n",
       "    </tr>\n",
       "    <tr>\n",
       "      <th>12</th>\n",
       "      <td>13</td>\n",
       "      <td>2.230853e+01</td>\n",
       "      <td>2.980277e+01</td>\n",
       "      <td>0.005935</td>\n",
       "      <td>-4.081459e-02</td>\n",
       "      <td>1</td>\n",
       "      <td>5.211130e+01</td>\n",
       "      <td>NaN</td>\n",
       "      <td>0.026901</td>\n",
       "      <td>24.984991</td>\n",
       "    </tr>\n",
       "    <tr>\n",
       "      <th>13</th>\n",
       "      <td>14</td>\n",
       "      <td>2.149107e+01</td>\n",
       "      <td>3.204472e+01</td>\n",
       "      <td>0.020481</td>\n",
       "      <td>-2.444338e-02</td>\n",
       "      <td>1</td>\n",
       "      <td>5.353579e+01</td>\n",
       "      <td>NaN</td>\n",
       "      <td>0.026901</td>\n",
       "      <td>24.984991</td>\n",
       "    </tr>\n",
       "    <tr>\n",
       "      <th>14</th>\n",
       "      <td>15</td>\n",
       "      <td>2.023702e+01</td>\n",
       "      <td>3.698373e+01</td>\n",
       "      <td>0.022890</td>\n",
       "      <td>-2.207921e-02</td>\n",
       "      <td>1</td>\n",
       "      <td>5.722074e+01</td>\n",
       "      <td>NaN</td>\n",
       "      <td>0.026901</td>\n",
       "      <td>24.984991</td>\n",
       "    </tr>\n",
       "    <tr>\n",
       "      <th>15</th>\n",
       "      <td>16</td>\n",
       "      <td>2.023921e+01</td>\n",
       "      <td>3.698481e+01</td>\n",
       "      <td>0.022874</td>\n",
       "      <td>-2.206018e-02</td>\n",
       "      <td>1</td>\n",
       "      <td>5.722402e+01</td>\n",
       "      <td>NaN</td>\n",
       "      <td>0.026901</td>\n",
       "      <td>24.984991</td>\n",
       "    </tr>\n",
       "    <tr>\n",
       "      <th>16</th>\n",
       "      <td>17</td>\n",
       "      <td>2.179491e+01</td>\n",
       "      <td>3.557295e+01</td>\n",
       "      <td>0.022549</td>\n",
       "      <td>-2.599269e-02</td>\n",
       "      <td>1</td>\n",
       "      <td>5.736786e+01</td>\n",
       "      <td>NaN</td>\n",
       "      <td>0.026901</td>\n",
       "      <td>24.984991</td>\n",
       "    </tr>\n",
       "    <tr>\n",
       "      <th>17</th>\n",
       "      <td>18</td>\n",
       "      <td>2.294627e+01</td>\n",
       "      <td>5.267612e+01</td>\n",
       "      <td>0.095322</td>\n",
       "      <td>-1.405966e+00</td>\n",
       "      <td>1</td>\n",
       "      <td>7.562239e+01</td>\n",
       "      <td>NaN</td>\n",
       "      <td>0.026901</td>\n",
       "      <td>24.984991</td>\n",
       "    </tr>\n",
       "    <tr>\n",
       "      <th>18</th>\n",
       "      <td>19</td>\n",
       "      <td>2.511773e+01</td>\n",
       "      <td>2.146028e+01</td>\n",
       "      <td>0.028024</td>\n",
       "      <td>-6.011160e-02</td>\n",
       "      <td>1</td>\n",
       "      <td>4.657801e+01</td>\n",
       "      <td>NaN</td>\n",
       "      <td>0.026901</td>\n",
       "      <td>24.984991</td>\n",
       "    </tr>\n",
       "    <tr>\n",
       "      <th>19</th>\n",
       "      <td>20</td>\n",
       "      <td>2.494370e+01</td>\n",
       "      <td>2.928020e+01</td>\n",
       "      <td>0.037188</td>\n",
       "      <td>0.000000e+00</td>\n",
       "      <td>1</td>\n",
       "      <td>5.422390e+01</td>\n",
       "      <td>NaN</td>\n",
       "      <td>0.026901</td>\n",
       "      <td>24.984991</td>\n",
       "    </tr>\n",
       "    <tr>\n",
       "      <th>20</th>\n",
       "      <td>21</td>\n",
       "      <td>2.498434e+01</td>\n",
       "      <td>NaN</td>\n",
       "      <td>0.026901</td>\n",
       "      <td>NaN</td>\n",
       "      <td>1</td>\n",
       "      <td>NaN</td>\n",
       "      <td>NaN</td>\n",
       "      <td>0.026901</td>\n",
       "      <td>24.984991</td>\n",
       "    </tr>\n",
       "    <tr>\n",
       "      <th>21</th>\n",
       "      <td>1</td>\n",
       "      <td>3.054469e-27</td>\n",
       "      <td>5.180514e+08</td>\n",
       "      <td>1.000000</td>\n",
       "      <td>-1.948362e+07</td>\n",
       "      <td>3</td>\n",
       "      <td>5.180514e+08</td>\n",
       "      <td>NaN</td>\n",
       "      <td>0.026901</td>\n",
       "      <td>24.984991</td>\n",
       "    </tr>\n",
       "    <tr>\n",
       "      <th>22</th>\n",
       "      <td>2</td>\n",
       "      <td>6.573248e-01</td>\n",
       "      <td>9.986331e+03</td>\n",
       "      <td>0.911069</td>\n",
       "      <td>-3.758475e+02</td>\n",
       "      <td>3</td>\n",
       "      <td>9.986988e+03</td>\n",
       "      <td>NaN</td>\n",
       "      <td>0.026901</td>\n",
       "      <td>24.984991</td>\n",
       "    </tr>\n",
       "    <tr>\n",
       "      <th>23</th>\n",
       "      <td>3</td>\n",
       "      <td>7.493511e+00</td>\n",
       "      <td>4.573537e+02</td>\n",
       "      <td>0.260592</td>\n",
       "      <td>-1.581616e+01</td>\n",
       "      <td>3</td>\n",
       "      <td>4.648472e+02</td>\n",
       "      <td>NaN</td>\n",
       "      <td>0.026901</td>\n",
       "      <td>24.984991</td>\n",
       "    </tr>\n",
       "    <tr>\n",
       "      <th>24</th>\n",
       "      <td>4</td>\n",
       "      <td>1.189128e+01</td>\n",
       "      <td>1.033811e+02</td>\n",
       "      <td>0.047751</td>\n",
       "      <td>-2.791279e+00</td>\n",
       "      <td>3</td>\n",
       "      <td>1.152723e+02</td>\n",
       "      <td>NaN</td>\n",
       "      <td>0.026901</td>\n",
       "      <td>24.984991</td>\n",
       "    </tr>\n",
       "    <tr>\n",
       "      <th>25</th>\n",
       "      <td>5</td>\n",
       "      <td>1.294113e+01</td>\n",
       "      <td>3.636262e+01</td>\n",
       "      <td>0.002287</td>\n",
       "      <td>-2.873026e-01</td>\n",
       "      <td>3</td>\n",
       "      <td>4.930375e+01</td>\n",
       "      <td>NaN</td>\n",
       "      <td>0.026901</td>\n",
       "      <td>24.984991</td>\n",
       "    </tr>\n",
       "    <tr>\n",
       "      <th>26</th>\n",
       "      <td>6</td>\n",
       "      <td>1.189009e+01</td>\n",
       "      <td>3.088455e+01</td>\n",
       "      <td>0.000123</td>\n",
       "      <td>-5.383916e-02</td>\n",
       "      <td>3</td>\n",
       "      <td>4.277464e+01</td>\n",
       "      <td>NaN</td>\n",
       "      <td>0.026901</td>\n",
       "      <td>24.984991</td>\n",
       "    </tr>\n",
       "    <tr>\n",
       "      <th>27</th>\n",
       "      <td>7</td>\n",
       "      <td>1.188641e+01</td>\n",
       "      <td>3.087788e+01</td>\n",
       "      <td>0.000125</td>\n",
       "      <td>-5.371393e-02</td>\n",
       "      <td>3</td>\n",
       "      <td>4.276429e+01</td>\n",
       "      <td>NaN</td>\n",
       "      <td>0.026901</td>\n",
       "      <td>24.984991</td>\n",
       "    </tr>\n",
       "    <tr>\n",
       "      <th>28</th>\n",
       "      <td>8</td>\n",
       "      <td>1.703380e+01</td>\n",
       "      <td>3.246174e+01</td>\n",
       "      <td>0.025569</td>\n",
       "      <td>-6.675629e-02</td>\n",
       "      <td>3</td>\n",
       "      <td>4.949554e+01</td>\n",
       "      <td>NaN</td>\n",
       "      <td>0.026901</td>\n",
       "      <td>24.984991</td>\n",
       "    </tr>\n",
       "    <tr>\n",
       "      <th>29</th>\n",
       "      <td>9</td>\n",
       "      <td>1.807567e+01</td>\n",
       "      <td>4.026226e+01</td>\n",
       "      <td>0.006194</td>\n",
       "      <td>-3.462268e-01</td>\n",
       "      <td>3</td>\n",
       "      <td>5.833794e+01</td>\n",
       "      <td>NaN</td>\n",
       "      <td>0.026901</td>\n",
       "      <td>24.984991</td>\n",
       "    </tr>\n",
       "    <tr>\n",
       "      <th>...</th>\n",
       "      <td>...</td>\n",
       "      <td>...</td>\n",
       "      <td>...</td>\n",
       "      <td>...</td>\n",
       "      <td>...</td>\n",
       "      <td>...</td>\n",
       "      <td>...</td>\n",
       "      <td>...</td>\n",
       "      <td>...</td>\n",
       "      <td>...</td>\n",
       "    </tr>\n",
       "    <tr>\n",
       "      <th>138</th>\n",
       "      <td>13</td>\n",
       "      <td>2.231097e+01</td>\n",
       "      <td>2.979605e+01</td>\n",
       "      <td>0.005962</td>\n",
       "      <td>-4.071272e-02</td>\n",
       "      <td>5</td>\n",
       "      <td>5.210703e+01</td>\n",
       "      <td>NaN</td>\n",
       "      <td>0.026901</td>\n",
       "      <td>24.984991</td>\n",
       "    </tr>\n",
       "    <tr>\n",
       "      <th>139</th>\n",
       "      <td>14</td>\n",
       "      <td>2.148974e+01</td>\n",
       "      <td>3.204039e+01</td>\n",
       "      <td>0.020465</td>\n",
       "      <td>-2.444945e-02</td>\n",
       "      <td>5</td>\n",
       "      <td>5.353014e+01</td>\n",
       "      <td>NaN</td>\n",
       "      <td>0.026901</td>\n",
       "      <td>24.984991</td>\n",
       "    </tr>\n",
       "    <tr>\n",
       "      <th>140</th>\n",
       "      <td>15</td>\n",
       "      <td>2.023701e+01</td>\n",
       "      <td>3.698260e+01</td>\n",
       "      <td>0.022897</td>\n",
       "      <td>-2.205449e-02</td>\n",
       "      <td>5</td>\n",
       "      <td>5.721961e+01</td>\n",
       "      <td>NaN</td>\n",
       "      <td>0.026901</td>\n",
       "      <td>24.984991</td>\n",
       "    </tr>\n",
       "    <tr>\n",
       "      <th>141</th>\n",
       "      <td>16</td>\n",
       "      <td>2.023600e+01</td>\n",
       "      <td>3.699105e+01</td>\n",
       "      <td>0.022874</td>\n",
       "      <td>-2.206139e-02</td>\n",
       "      <td>5</td>\n",
       "      <td>5.722705e+01</td>\n",
       "      <td>NaN</td>\n",
       "      <td>0.026901</td>\n",
       "      <td>24.984991</td>\n",
       "    </tr>\n",
       "    <tr>\n",
       "      <th>142</th>\n",
       "      <td>17</td>\n",
       "      <td>2.179716e+01</td>\n",
       "      <td>3.557481e+01</td>\n",
       "      <td>0.022553</td>\n",
       "      <td>-2.600820e-02</td>\n",
       "      <td>5</td>\n",
       "      <td>5.737197e+01</td>\n",
       "      <td>NaN</td>\n",
       "      <td>0.026901</td>\n",
       "      <td>24.984991</td>\n",
       "    </tr>\n",
       "    <tr>\n",
       "      <th>143</th>\n",
       "      <td>18</td>\n",
       "      <td>2.294554e+01</td>\n",
       "      <td>5.269410e+01</td>\n",
       "      <td>0.095336</td>\n",
       "      <td>-1.405881e+00</td>\n",
       "      <td>5</td>\n",
       "      <td>7.563964e+01</td>\n",
       "      <td>NaN</td>\n",
       "      <td>0.026901</td>\n",
       "      <td>24.984991</td>\n",
       "    </tr>\n",
       "    <tr>\n",
       "      <th>144</th>\n",
       "      <td>19</td>\n",
       "      <td>2.511695e+01</td>\n",
       "      <td>2.147047e+01</td>\n",
       "      <td>0.028018</td>\n",
       "      <td>-6.008305e-02</td>\n",
       "      <td>5</td>\n",
       "      <td>4.658742e+01</td>\n",
       "      <td>NaN</td>\n",
       "      <td>0.026901</td>\n",
       "      <td>24.984991</td>\n",
       "    </tr>\n",
       "    <tr>\n",
       "      <th>145</th>\n",
       "      <td>20</td>\n",
       "      <td>2.494488e+01</td>\n",
       "      <td>2.928564e+01</td>\n",
       "      <td>0.037169</td>\n",
       "      <td>0.000000e+00</td>\n",
       "      <td>5</td>\n",
       "      <td>5.423053e+01</td>\n",
       "      <td>NaN</td>\n",
       "      <td>0.026901</td>\n",
       "      <td>24.984991</td>\n",
       "    </tr>\n",
       "    <tr>\n",
       "      <th>146</th>\n",
       "      <td>21</td>\n",
       "      <td>2.498240e+01</td>\n",
       "      <td>NaN</td>\n",
       "      <td>0.026891</td>\n",
       "      <td>NaN</td>\n",
       "      <td>5</td>\n",
       "      <td>NaN</td>\n",
       "      <td>NaN</td>\n",
       "      <td>0.026901</td>\n",
       "      <td>24.984991</td>\n",
       "    </tr>\n",
       "    <tr>\n",
       "      <th>147</th>\n",
       "      <td>1</td>\n",
       "      <td>6.992463e-26</td>\n",
       "      <td>1.040343e+10</td>\n",
       "      <td>1.000000</td>\n",
       "      <td>-3.912847e+08</td>\n",
       "      <td>6</td>\n",
       "      <td>1.040343e+10</td>\n",
       "      <td>NaN</td>\n",
       "      <td>0.026901</td>\n",
       "      <td>24.984991</td>\n",
       "    </tr>\n",
       "    <tr>\n",
       "      <th>148</th>\n",
       "      <td>2</td>\n",
       "      <td>6.601114e-01</td>\n",
       "      <td>9.931300e+03</td>\n",
       "      <td>0.910629</td>\n",
       "      <td>-3.738188e+02</td>\n",
       "      <td>6</td>\n",
       "      <td>9.931960e+03</td>\n",
       "      <td>NaN</td>\n",
       "      <td>0.026901</td>\n",
       "      <td>24.984991</td>\n",
       "    </tr>\n",
       "    <tr>\n",
       "      <th>149</th>\n",
       "      <td>3</td>\n",
       "      <td>7.506246e+00</td>\n",
       "      <td>4.565380e+02</td>\n",
       "      <td>0.259792</td>\n",
       "      <td>-1.578573e+01</td>\n",
       "      <td>6</td>\n",
       "      <td>4.640442e+02</td>\n",
       "      <td>NaN</td>\n",
       "      <td>0.026901</td>\n",
       "      <td>24.984991</td>\n",
       "    </tr>\n",
       "    <tr>\n",
       "      <th>150</th>\n",
       "      <td>4</td>\n",
       "      <td>1.189109e+01</td>\n",
       "      <td>1.031131e+02</td>\n",
       "      <td>0.047641</td>\n",
       "      <td>-2.781729e+00</td>\n",
       "      <td>6</td>\n",
       "      <td>1.150042e+02</td>\n",
       "      <td>NaN</td>\n",
       "      <td>0.026901</td>\n",
       "      <td>24.984991</td>\n",
       "    </tr>\n",
       "    <tr>\n",
       "      <th>151</th>\n",
       "      <td>5</td>\n",
       "      <td>1.294167e+01</td>\n",
       "      <td>3.634779e+01</td>\n",
       "      <td>0.002279</td>\n",
       "      <td>-2.868180e-01</td>\n",
       "      <td>6</td>\n",
       "      <td>4.928946e+01</td>\n",
       "      <td>NaN</td>\n",
       "      <td>0.026901</td>\n",
       "      <td>24.984991</td>\n",
       "    </tr>\n",
       "    <tr>\n",
       "      <th>152</th>\n",
       "      <td>6</td>\n",
       "      <td>1.188743e+01</td>\n",
       "      <td>3.089180e+01</td>\n",
       "      <td>0.000120</td>\n",
       "      <td>-5.411954e-02</td>\n",
       "      <td>6</td>\n",
       "      <td>4.277924e+01</td>\n",
       "      <td>NaN</td>\n",
       "      <td>0.026901</td>\n",
       "      <td>24.984991</td>\n",
       "    </tr>\n",
       "    <tr>\n",
       "      <th>153</th>\n",
       "      <td>7</td>\n",
       "      <td>1.188761e+01</td>\n",
       "      <td>3.088971e+01</td>\n",
       "      <td>0.000121</td>\n",
       "      <td>-5.416071e-02</td>\n",
       "      <td>6</td>\n",
       "      <td>4.277733e+01</td>\n",
       "      <td>NaN</td>\n",
       "      <td>0.026901</td>\n",
       "      <td>24.984991</td>\n",
       "    </tr>\n",
       "    <tr>\n",
       "      <th>154</th>\n",
       "      <td>8</td>\n",
       "      <td>1.703491e+01</td>\n",
       "      <td>3.245210e+01</td>\n",
       "      <td>0.025511</td>\n",
       "      <td>-6.645990e-02</td>\n",
       "      <td>6</td>\n",
       "      <td>4.948701e+01</td>\n",
       "      <td>NaN</td>\n",
       "      <td>0.026901</td>\n",
       "      <td>24.984991</td>\n",
       "    </tr>\n",
       "    <tr>\n",
       "      <th>155</th>\n",
       "      <td>9</td>\n",
       "      <td>1.807675e+01</td>\n",
       "      <td>4.025395e+01</td>\n",
       "      <td>0.006178</td>\n",
       "      <td>-3.459191e-01</td>\n",
       "      <td>6</td>\n",
       "      <td>5.833070e+01</td>\n",
       "      <td>NaN</td>\n",
       "      <td>0.026901</td>\n",
       "      <td>24.984991</td>\n",
       "    </tr>\n",
       "    <tr>\n",
       "      <th>156</th>\n",
       "      <td>10</td>\n",
       "      <td>1.634130e+01</td>\n",
       "      <td>4.837639e+01</td>\n",
       "      <td>0.013291</td>\n",
       "      <td>-5.319958e-01</td>\n",
       "      <td>6</td>\n",
       "      <td>6.471769e+01</td>\n",
       "      <td>NaN</td>\n",
       "      <td>0.026901</td>\n",
       "      <td>24.984991</td>\n",
       "    </tr>\n",
       "    <tr>\n",
       "      <th>157</th>\n",
       "      <td>11</td>\n",
       "      <td>1.869264e+01</td>\n",
       "      <td>4.396945e+01</td>\n",
       "      <td>0.004918</td>\n",
       "      <td>-4.395092e-01</td>\n",
       "      <td>6</td>\n",
       "      <td>6.266209e+01</td>\n",
       "      <td>NaN</td>\n",
       "      <td>0.026901</td>\n",
       "      <td>24.984991</td>\n",
       "    </tr>\n",
       "    <tr>\n",
       "      <th>158</th>\n",
       "      <td>12</td>\n",
       "      <td>2.242318e+01</td>\n",
       "      <td>3.107794e+01</td>\n",
       "      <td>0.000836</td>\n",
       "      <td>-1.240236e-01</td>\n",
       "      <td>6</td>\n",
       "      <td>5.350113e+01</td>\n",
       "      <td>NaN</td>\n",
       "      <td>0.026901</td>\n",
       "      <td>24.984991</td>\n",
       "    </tr>\n",
       "    <tr>\n",
       "      <th>159</th>\n",
       "      <td>13</td>\n",
       "      <td>2.231177e+01</td>\n",
       "      <td>2.979923e+01</td>\n",
       "      <td>0.005948</td>\n",
       "      <td>-4.075205e-02</td>\n",
       "      <td>6</td>\n",
       "      <td>5.211100e+01</td>\n",
       "      <td>NaN</td>\n",
       "      <td>0.026901</td>\n",
       "      <td>24.984991</td>\n",
       "    </tr>\n",
       "    <tr>\n",
       "      <th>160</th>\n",
       "      <td>14</td>\n",
       "      <td>2.148747e+01</td>\n",
       "      <td>3.204451e+01</td>\n",
       "      <td>0.020460</td>\n",
       "      <td>-2.441068e-02</td>\n",
       "      <td>6</td>\n",
       "      <td>5.353198e+01</td>\n",
       "      <td>NaN</td>\n",
       "      <td>0.026901</td>\n",
       "      <td>24.984991</td>\n",
       "    </tr>\n",
       "    <tr>\n",
       "      <th>161</th>\n",
       "      <td>15</td>\n",
       "      <td>2.023470e+01</td>\n",
       "      <td>3.699470e+01</td>\n",
       "      <td>0.022910</td>\n",
       "      <td>-2.209042e-02</td>\n",
       "      <td>6</td>\n",
       "      <td>5.722941e+01</td>\n",
       "      <td>NaN</td>\n",
       "      <td>0.026901</td>\n",
       "      <td>24.984991</td>\n",
       "    </tr>\n",
       "    <tr>\n",
       "      <th>162</th>\n",
       "      <td>16</td>\n",
       "      <td>2.023526e+01</td>\n",
       "      <td>3.698619e+01</td>\n",
       "      <td>0.022895</td>\n",
       "      <td>-2.208638e-02</td>\n",
       "      <td>6</td>\n",
       "      <td>5.722144e+01</td>\n",
       "      <td>NaN</td>\n",
       "      <td>0.026901</td>\n",
       "      <td>24.984991</td>\n",
       "    </tr>\n",
       "    <tr>\n",
       "      <th>163</th>\n",
       "      <td>17</td>\n",
       "      <td>2.179564e+01</td>\n",
       "      <td>3.557548e+01</td>\n",
       "      <td>0.022554</td>\n",
       "      <td>-2.600096e-02</td>\n",
       "      <td>6</td>\n",
       "      <td>5.737113e+01</td>\n",
       "      <td>NaN</td>\n",
       "      <td>0.026901</td>\n",
       "      <td>24.984991</td>\n",
       "    </tr>\n",
       "    <tr>\n",
       "      <th>164</th>\n",
       "      <td>18</td>\n",
       "      <td>2.294595e+01</td>\n",
       "      <td>5.266252e+01</td>\n",
       "      <td>0.095303</td>\n",
       "      <td>-1.405654e+00</td>\n",
       "      <td>6</td>\n",
       "      <td>7.560847e+01</td>\n",
       "      <td>NaN</td>\n",
       "      <td>0.026901</td>\n",
       "      <td>24.984991</td>\n",
       "    </tr>\n",
       "    <tr>\n",
       "      <th>165</th>\n",
       "      <td>19</td>\n",
       "      <td>2.511945e+01</td>\n",
       "      <td>2.145896e+01</td>\n",
       "      <td>0.027998</td>\n",
       "      <td>-6.007539e-02</td>\n",
       "      <td>6</td>\n",
       "      <td>4.657841e+01</td>\n",
       "      <td>NaN</td>\n",
       "      <td>0.026901</td>\n",
       "      <td>24.984991</td>\n",
       "    </tr>\n",
       "    <tr>\n",
       "      <th>166</th>\n",
       "      <td>20</td>\n",
       "      <td>2.494520e+01</td>\n",
       "      <td>2.926010e+01</td>\n",
       "      <td>0.037144</td>\n",
       "      <td>0.000000e+00</td>\n",
       "      <td>6</td>\n",
       "      <td>5.420530e+01</td>\n",
       "      <td>NaN</td>\n",
       "      <td>0.026901</td>\n",
       "      <td>24.984991</td>\n",
       "    </tr>\n",
       "    <tr>\n",
       "      <th>167</th>\n",
       "      <td>21</td>\n",
       "      <td>2.498385e+01</td>\n",
       "      <td>NaN</td>\n",
       "      <td>0.026920</td>\n",
       "      <td>NaN</td>\n",
       "      <td>6</td>\n",
       "      <td>NaN</td>\n",
       "      <td>NaN</td>\n",
       "      <td>0.026901</td>\n",
       "      <td>24.984991</td>\n",
       "    </tr>\n",
       "  </tbody>\n",
       "</table>\n",
       "<p>168 rows × 10 columns</p>\n",
       "</div>"
      ],
      "text/plain": [
       "     CUTOFF         MSE_1         MSE_2      R2_1          R2_2  TREATMENT  \\\n",
       "0         1  1.262177e-28  1.603698e+08  1.000000 -6.030955e+06          1   \n",
       "1         2  6.664824e-01  9.956303e+03  0.909826 -3.747377e+02          1   \n",
       "2         3  7.496457e+00  4.573188e+02  0.260598 -1.581273e+01          1   \n",
       "3         4  1.189349e+01  1.032067e+02  0.047717 -2.785466e+00          1   \n",
       "4         5  1.294434e+01  3.634457e+01  0.002277 -2.867458e-01          1   \n",
       "5         6  1.188955e+01  3.086670e+01  0.000130 -5.331553e-02          1   \n",
       "6         7  1.189084e+01  3.087641e+01  0.000127 -5.355522e-02          1   \n",
       "7         8  1.703376e+01  3.245323e+01  0.025516 -6.643985e-02          1   \n",
       "8         9  1.807543e+01  4.027252e+01  0.006204 -3.465398e-01          1   \n",
       "9        10  1.634065e+01  4.838066e+01  0.013306 -5.320895e-01          1   \n",
       "10       11  1.869056e+01  4.396917e+01  0.004915 -4.393889e-01          1   \n",
       "11       12  2.241875e+01  3.107890e+01  0.000837 -1.240318e-01          1   \n",
       "12       13  2.230853e+01  2.980277e+01  0.005935 -4.081459e-02          1   \n",
       "13       14  2.149107e+01  3.204472e+01  0.020481 -2.444338e-02          1   \n",
       "14       15  2.023702e+01  3.698373e+01  0.022890 -2.207921e-02          1   \n",
       "15       16  2.023921e+01  3.698481e+01  0.022874 -2.206018e-02          1   \n",
       "16       17  2.179491e+01  3.557295e+01  0.022549 -2.599269e-02          1   \n",
       "17       18  2.294627e+01  5.267612e+01  0.095322 -1.405966e+00          1   \n",
       "18       19  2.511773e+01  2.146028e+01  0.028024 -6.011160e-02          1   \n",
       "19       20  2.494370e+01  2.928020e+01  0.037188  0.000000e+00          1   \n",
       "20       21  2.498434e+01           NaN  0.026901           NaN          1   \n",
       "21        1  3.054469e-27  5.180514e+08  1.000000 -1.948362e+07          3   \n",
       "22        2  6.573248e-01  9.986331e+03  0.911069 -3.758475e+02          3   \n",
       "23        3  7.493511e+00  4.573537e+02  0.260592 -1.581616e+01          3   \n",
       "24        4  1.189128e+01  1.033811e+02  0.047751 -2.791279e+00          3   \n",
       "25        5  1.294113e+01  3.636262e+01  0.002287 -2.873026e-01          3   \n",
       "26        6  1.189009e+01  3.088455e+01  0.000123 -5.383916e-02          3   \n",
       "27        7  1.188641e+01  3.087788e+01  0.000125 -5.371393e-02          3   \n",
       "28        8  1.703380e+01  3.246174e+01  0.025569 -6.675629e-02          3   \n",
       "29        9  1.807567e+01  4.026226e+01  0.006194 -3.462268e-01          3   \n",
       "..      ...           ...           ...       ...           ...        ...   \n",
       "138      13  2.231097e+01  2.979605e+01  0.005962 -4.071272e-02          5   \n",
       "139      14  2.148974e+01  3.204039e+01  0.020465 -2.444945e-02          5   \n",
       "140      15  2.023701e+01  3.698260e+01  0.022897 -2.205449e-02          5   \n",
       "141      16  2.023600e+01  3.699105e+01  0.022874 -2.206139e-02          5   \n",
       "142      17  2.179716e+01  3.557481e+01  0.022553 -2.600820e-02          5   \n",
       "143      18  2.294554e+01  5.269410e+01  0.095336 -1.405881e+00          5   \n",
       "144      19  2.511695e+01  2.147047e+01  0.028018 -6.008305e-02          5   \n",
       "145      20  2.494488e+01  2.928564e+01  0.037169  0.000000e+00          5   \n",
       "146      21  2.498240e+01           NaN  0.026891           NaN          5   \n",
       "147       1  6.992463e-26  1.040343e+10  1.000000 -3.912847e+08          6   \n",
       "148       2  6.601114e-01  9.931300e+03  0.910629 -3.738188e+02          6   \n",
       "149       3  7.506246e+00  4.565380e+02  0.259792 -1.578573e+01          6   \n",
       "150       4  1.189109e+01  1.031131e+02  0.047641 -2.781729e+00          6   \n",
       "151       5  1.294167e+01  3.634779e+01  0.002279 -2.868180e-01          6   \n",
       "152       6  1.188743e+01  3.089180e+01  0.000120 -5.411954e-02          6   \n",
       "153       7  1.188761e+01  3.088971e+01  0.000121 -5.416071e-02          6   \n",
       "154       8  1.703491e+01  3.245210e+01  0.025511 -6.645990e-02          6   \n",
       "155       9  1.807675e+01  4.025395e+01  0.006178 -3.459191e-01          6   \n",
       "156      10  1.634130e+01  4.837639e+01  0.013291 -5.319958e-01          6   \n",
       "157      11  1.869264e+01  4.396945e+01  0.004918 -4.395092e-01          6   \n",
       "158      12  2.242318e+01  3.107794e+01  0.000836 -1.240236e-01          6   \n",
       "159      13  2.231177e+01  2.979923e+01  0.005948 -4.075205e-02          6   \n",
       "160      14  2.148747e+01  3.204451e+01  0.020460 -2.441068e-02          6   \n",
       "161      15  2.023470e+01  3.699470e+01  0.022910 -2.209042e-02          6   \n",
       "162      16  2.023526e+01  3.698619e+01  0.022895 -2.208638e-02          6   \n",
       "163      17  2.179564e+01  3.557548e+01  0.022554 -2.600096e-02          6   \n",
       "164      18  2.294595e+01  5.266252e+01  0.095303 -1.405654e+00          6   \n",
       "165      19  2.511945e+01  2.145896e+01  0.027998 -6.007539e-02          6   \n",
       "166      20  2.494520e+01  2.926010e+01  0.037144  0.000000e+00          6   \n",
       "167      21  2.498385e+01           NaN  0.026920           NaN          6   \n",
       "\n",
       "        MSE_TOTAL  R2_COMBINED_GEOM_MEAN  R2_NO_CUTOFF  MSE_NO_CUTOFF  \n",
       "0    1.603698e+08                    NaN      0.026901      24.984991  \n",
       "1    9.956969e+03                    NaN      0.026901      24.984991  \n",
       "2    4.648153e+02                    NaN      0.026901      24.984991  \n",
       "3    1.151001e+02                    NaN      0.026901      24.984991  \n",
       "4    4.928891e+01                    NaN      0.026901      24.984991  \n",
       "5    4.275625e+01                    NaN      0.026901      24.984991  \n",
       "6    4.276725e+01                    NaN      0.026901      24.984991  \n",
       "7    4.948699e+01                    NaN      0.026901      24.984991  \n",
       "8    5.834796e+01                    NaN      0.026901      24.984991  \n",
       "9    6.472131e+01                    NaN      0.026901      24.984991  \n",
       "10   6.265973e+01                    NaN      0.026901      24.984991  \n",
       "11   5.349765e+01                    NaN      0.026901      24.984991  \n",
       "12   5.211130e+01                    NaN      0.026901      24.984991  \n",
       "13   5.353579e+01                    NaN      0.026901      24.984991  \n",
       "14   5.722074e+01                    NaN      0.026901      24.984991  \n",
       "15   5.722402e+01                    NaN      0.026901      24.984991  \n",
       "16   5.736786e+01                    NaN      0.026901      24.984991  \n",
       "17   7.562239e+01                    NaN      0.026901      24.984991  \n",
       "18   4.657801e+01                    NaN      0.026901      24.984991  \n",
       "19   5.422390e+01                    NaN      0.026901      24.984991  \n",
       "20            NaN                    NaN      0.026901      24.984991  \n",
       "21   5.180514e+08                    NaN      0.026901      24.984991  \n",
       "22   9.986988e+03                    NaN      0.026901      24.984991  \n",
       "23   4.648472e+02                    NaN      0.026901      24.984991  \n",
       "24   1.152723e+02                    NaN      0.026901      24.984991  \n",
       "25   4.930375e+01                    NaN      0.026901      24.984991  \n",
       "26   4.277464e+01                    NaN      0.026901      24.984991  \n",
       "27   4.276429e+01                    NaN      0.026901      24.984991  \n",
       "28   4.949554e+01                    NaN      0.026901      24.984991  \n",
       "29   5.833794e+01                    NaN      0.026901      24.984991  \n",
       "..            ...                    ...           ...            ...  \n",
       "138  5.210703e+01                    NaN      0.026901      24.984991  \n",
       "139  5.353014e+01                    NaN      0.026901      24.984991  \n",
       "140  5.721961e+01                    NaN      0.026901      24.984991  \n",
       "141  5.722705e+01                    NaN      0.026901      24.984991  \n",
       "142  5.737197e+01                    NaN      0.026901      24.984991  \n",
       "143  7.563964e+01                    NaN      0.026901      24.984991  \n",
       "144  4.658742e+01                    NaN      0.026901      24.984991  \n",
       "145  5.423053e+01                    NaN      0.026901      24.984991  \n",
       "146           NaN                    NaN      0.026901      24.984991  \n",
       "147  1.040343e+10                    NaN      0.026901      24.984991  \n",
       "148  9.931960e+03                    NaN      0.026901      24.984991  \n",
       "149  4.640442e+02                    NaN      0.026901      24.984991  \n",
       "150  1.150042e+02                    NaN      0.026901      24.984991  \n",
       "151  4.928946e+01                    NaN      0.026901      24.984991  \n",
       "152  4.277924e+01                    NaN      0.026901      24.984991  \n",
       "153  4.277733e+01                    NaN      0.026901      24.984991  \n",
       "154  4.948701e+01                    NaN      0.026901      24.984991  \n",
       "155  5.833070e+01                    NaN      0.026901      24.984991  \n",
       "156  6.471769e+01                    NaN      0.026901      24.984991  \n",
       "157  6.266209e+01                    NaN      0.026901      24.984991  \n",
       "158  5.350113e+01                    NaN      0.026901      24.984991  \n",
       "159  5.211100e+01                    NaN      0.026901      24.984991  \n",
       "160  5.353198e+01                    NaN      0.026901      24.984991  \n",
       "161  5.722941e+01                    NaN      0.026901      24.984991  \n",
       "162  5.722144e+01                    NaN      0.026901      24.984991  \n",
       "163  5.737113e+01                    NaN      0.026901      24.984991  \n",
       "164  7.560847e+01                    NaN      0.026901      24.984991  \n",
       "165  4.657841e+01                    NaN      0.026901      24.984991  \n",
       "166  5.420530e+01                    NaN      0.026901      24.984991  \n",
       "167           NaN                    NaN      0.026901      24.984991  \n",
       "\n",
       "[168 rows x 10 columns]"
      ]
     },
     "execution_count": 149,
     "metadata": {},
     "output_type": "execute_result"
    }
   ],
   "source": [
    "ls_results"
   ]
  },
  {
   "cell_type": "code",
   "execution_count": 98,
   "metadata": {
    "collapsed": false
   },
   "outputs": [],
   "source": [
    "ls_results.to_csv(\"../results/unsyn_breakpoint_analysis.csv\")"
   ]
  },
  {
   "cell_type": "markdown",
   "metadata": {},
   "source": [
    "## 4. Piecewise regression"
   ]
  },
  {
   "cell_type": "code",
   "execution_count": 159,
   "metadata": {
    "collapsed": false
   },
   "outputs": [
    {
     "name": "stderr",
     "output_type": "stream",
     "text": [
      "C:\\Anaconda3\\lib\\site-packages\\scipy\\optimize\\minpack.py:715: OptimizeWarning: Covariance of the parameters could not be estimated\n",
      "  category=OptimizeWarning)\n"
     ]
    }
   ],
   "source": [
    "for tr in dat.TREATMENT.unique():\n",
    "\n",
    "    x = np.array(dat[dat.TREATMENT == tr][\"TIME_IN_CYCLE\"])\n",
    "    y = np.array(dat[dat.TREATMENT == tr][\"DEATH_TIME\"])\n",
    "\n",
    "    def piecewise_linear(x, x0, y0, k1, k2):\n",
    "        return np.piecewise(x, [x < x0], [lambda x:y0 + k1 * x - k1 * x0, lambda x:y0 + k2 * x - k2 * x0])\n",
    "\n",
    "    p , e = optimize.curve_fit(piecewise_linear, x, y)\n",
    "    xd = np.linspace(0, 25, 100)\n",
    "    pt.plot(x, y, \"o\")\n",
    "    pt.plot(xd, piecewise_linear(xd, *p))\n",
    "    pt.title(\"Treatment %s\" % tr)\n",
    "    pt.xlabel(\"T_tic (h)\")\n",
    "    pt.ylabel(\"T_ttd (h)\")\n",
    "    \n",
    "    pt.gcf().set_size_inches(6, 4)\n",
    "    pt.savefig(\"piecewise_%d.pdf\" % tr)\n",
    "    pt.close()\n",
    "    "
   ]
  },
  {
   "cell_type": "markdown",
   "metadata": {},
   "source": [
    "## 5. TTD sister correlations analysis"
   ]
  },
  {
   "cell_type": "code",
   "execution_count": 168,
   "metadata": {
    "collapsed": false
   },
   "outputs": [],
   "source": [
    "us_ttd_corr = pd.read_csv(\"../results/unsyn_sister_death_corr.csv\", index_col=0)\n",
    "s_ttd_corr = pd.read_csv(\"../results/syn_sister_death_corr.csv\", index_col=0)"
   ]
  },
  {
   "cell_type": "code",
   "execution_count": 200,
   "metadata": {
    "collapsed": false
   },
   "outputs": [
    {
     "data": {
      "image/png": "[encoded data removed]",
      "text/plain": [
       "<matplotlib.figure.Figure at 0x1e3038a4cc0>"
      ]
     },
     "metadata": {},
     "output_type": "display_data"
    }
   ],
   "source": [
    "pt.scatter(us_ttd_corr.SISTER_1, us_ttd_corr.SISTER_2, c=\"black\", label=\"unsyn\", alpha=0.5)\n",
    "pt.scatter(s_ttd_corr.SISTER_1, s_ttd_corr.SISTER_2, c=\"green\", label=\"syn\", alpha=0.5)\n",
    "\n",
    "pt.legend(loc=\"lower left\")\n",
    "pt.title(\"Correlation between death time of two siblings\")\n",
    "pt.xlabel(\"T_ttd (h), sister 1\")\n",
    "pt.ylabel(\"T_ttd (h), sister 2\")\n",
    "\n",
    "pt.xlim(0, 25)\n",
    "pt.ylim(0, 25)\n",
    "pt.gcf().set_size_inches(8, 8)\n",
    "\n",
    "pt.savefig(\"D:/Dropbox/Edu/MA/20171022_results/images/comp/ttd_corr_comp_blackgreen.pdf\")"
   ]
  },
  {
   "cell_type": "code",
   "execution_count": 199,
   "metadata": {
    "collapsed": false
   },
   "outputs": [],
   "source": [
    "pt.scatter(us_ttd_corr.SISTER_1, us_ttd_corr.SISTER_2, c=\"red\", label=\"unsyn\", alpha=0.5)\n",
    "pt.scatter(s_ttd_corr.SISTER_1, s_ttd_corr.SISTER_2, c=\"black\", label=\"syn\", alpha=0.5)\n",
    "\n",
    "pt.legend(loc=\"lower left\")\n",
    "pt.title(\"Correlation between death time of two siblings\")\n",
    "pt.xlabel(\"T_ttd (h), sister 1\")\n",
    "pt.ylabel(\"T_ttd (h), sister 2\")\n",
    "\n",
    "pt.xlim(0, 25)\n",
    "pt.ylim(0, 25)\n",
    "pt.gcf().set_size_inches(8, 8)\n",
    "\n",
    "    pt.savefig(\"D:/Dropbox/Edu/MA/20171022_results/images/comp/ttd_corr_comp_redblack.pdf\")\n",
    "pt.close()"
   ]
  },
  {
   "cell_type": "code",
   "execution_count": 198,
   "metadata": {
    "collapsed": true
   },
   "outputs": [],
   "source": [
    "pt.scatter(us_ttd_corr.SISTER_1, us_ttd_corr.SISTER_2, c=\"red\", label=\"unsyn\", alpha=0.5)\n",
    "pt.scatter(s_ttd_corr.SISTER_1, s_ttd_corr.SISTER_2, c=\"green\", label=\"syn\", alpha=0.5)\n",
    "\n",
    "pt.legend(loc=\"lower left\")\n",
    "pt.title(\"Correlation between death time of two siblings\")\n",
    "pt.xlabel(\"T_ttd (h), sister 1\")\n",
    "pt.ylabel(\"T_ttd (h), sister 2\")\n",
    "\n",
    "pt.xlim(0, 25)\n",
    "pt.ylim(0, 25)\n",
    "pt.gcf().set_size_inches(8, 8)\n",
    "\n",
    "pt.savefig(\"D:/Dropbox/Edu/MA/20171022_results/images/comp/ttd_corr_comp_redgreen.pdf\")\n",
    "pt.close()"
   ]
  },
  {
   "cell_type": "markdown",
   "metadata": {},
   "source": [
    "## 6. Cell dropout rate analysis"
   ]
  },
  {
   "cell_type": "code",
   "execution_count": 139,
   "metadata": {
    "collapsed": true
   },
   "outputs": [],
   "source": [
    "br1 = dat_f[\"26\"][\"TREES\"][1119869][\"BRANCH\"][1119869][0]\n",
    "br2 = dat_f[\"26\"][\"TREES\"][1119869][\"BRANCH\"][1119869][1]"
   ]
  },
  {
   "cell_type": "code",
   "execution_count": 140,
   "metadata": {
    "collapsed": false
   },
   "outputs": [
    {
     "data": {
      "text/plain": [
       "55200"
      ]
     },
     "execution_count": 140,
     "metadata": {},
     "output_type": "execute_result"
    }
   ],
   "source": [
    "dat_f[\"26\"][\"TREES\"][1119869][\"POSITION_T\"][br1][-1]"
   ]
  },
  {
   "cell_type": "code",
   "execution_count": 141,
   "metadata": {
    "collapsed": false
   },
   "outputs": [
    {
     "data": {
      "text/plain": [
       "26400"
      ]
     },
     "execution_count": 141,
     "metadata": {},
     "output_type": "execute_result"
    }
   ],
   "source": [
    "dat_f[\"26\"][\"TREES\"][1119869][\"POSITION_T\"][br2][-1]"
   ]
  },
  {
   "cell_type": "code",
   "execution_count": 15,
   "metadata": {
    "collapsed": true
   },
   "outputs": [],
   "source": [
    "lasttime = []\n",
    "\n",
    "for pos in dat_f:\n",
    "    for tr in dat_f[pos][\"TREES\"]:\n",
    "        br1 = dat_f[pos][\"TREES\"][tr][\"BRANCH\"][tr][0]\n",
    "        br2 = dat_f[pos][\"TREES\"][tr][\"BRANCH\"][tr][1]\n",
    "        \n",
    "        lt1 = dat_f[pos][\"TREES\"][tr][\"POSITION_T\"][br1][-1]\n",
    "        lt2 = dat_f[pos][\"TREES\"][tr][\"POSITION_T\"][br1][-1]\n",
    "        \n",
    "        lasttime += [lt1, lt2]\n",
    "        \n",
    "lasttime = [v / 3600. for v in lasttime]"
   ]
  },
  {
   "cell_type": "code",
   "execution_count": 33,
   "metadata": {
    "collapsed": false
   },
   "outputs": [
    {
     "data": {
      "image/png": "[encoded data removed]",
      "text/plain": [
       "<matplotlib.figure.Figure at 0x1edbb130208>"
      ]
     },
     "metadata": {},
     "output_type": "display_data"
    }
   ],
   "source": [
    "pt.rcParams.update({'font.size': 12})\n",
    "\n",
    "pt.hist(lasttime, bins=range(46), color=\"grey\", normed=True)\n",
    "pt.ylabel(\"Probability\")\n",
    "pt.xlabel(\"Dropout time (hours)\")\n",
    "\n",
    "pt.gcf().set_size_inches(6, 3)\n",
    "pt.savefig(\"D:/Dropbox/Edu/MA/pics/dropout/dropout.pdf\")"
   ]
  },
  {
   "cell_type": "code",
   "execution_count": 6,
   "metadata": {
    "collapsed": false
   },
   "outputs": [
    {
     "data": {
      "text/plain": [
       "75000"
      ]
     },
     "execution_count": 6,
     "metadata": {},
     "output_type": "execute_result"
    }
   ],
   "source": [
    "lt1"
   ]
  }
 ],
 "metadata": {
  "anaconda-cloud": {},
  "kernelspec": {
   "display_name": "Python [default]",
   "language": "python",
   "name": "python3"
  },
  "language_info": {
   "codemirror_mode": {
    "name": "ipython",
    "version": 3
   },
   "file_extension": ".py",
   "mimetype": "text/x-python",
   "name": "python",
   "nbconvert_exporter": "python",
   "pygments_lexer": "ipython3",
   "version": "3.5.2"
  }
 },
 "nbformat": 4,
 "nbformat_minor": 1
}

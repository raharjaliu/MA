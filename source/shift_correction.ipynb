{
 "cells": [
  {
   "cell_type": "code",
   "execution_count": 3,
   "metadata": {
    "collapsed": true
   },
   "outputs": [],
   "source": [
    "import os\n",
    "\n",
    "import cv2\n",
    "import numpy as np\n",
    "import tiffcapture as tc\n",
    "\n",
    "import time\n",
    "\n",
    "from matplotlib import pyplot as pt\n",
    "from tifffile import imsave\n",
    "\n",
    "%matplotlib inline"
   ]
  },
  {
   "cell_type": "code",
   "execution_count": 4,
   "metadata": {
    "collapsed": true
   },
   "outputs": [],
   "source": [
    "def get_video(path, to_rgb=False):\n",
    "    \"\"\"\n",
    "    Read TIFF file containing multiple stacks (a video)\n",
    "    and return sequential array of frame encoded as\n",
    "    multidimensional array\n",
    "    \"\"\"\n",
    "    \n",
    "    tif = tc.opentiff(path)\n",
    "    \n",
    "    ## first image\n",
    "    _, first_img = tif.retrieve()\n",
    "    if to_rgb:\n",
    "        first_img = cv2.cvtColor(first_img,cv2.COLOR_GRAY2RGB)\n",
    "\n",
    "    ## slices\n",
    "    pics = [first_img]\n",
    "\n",
    "    for slide in tif:\n",
    "        # convert grayscale to RGB\n",
    "        if to_rgb:\n",
    "            slide = cv2.cvtColor(slide, cv2.COLOR_GRAY2RGB)\n",
    "        pics.append(slide)\n",
    "    \n",
    "    return pics"
   ]
  },
  {
   "cell_type": "code",
   "execution_count": 5,
   "metadata": {
    "collapsed": false
   },
   "outputs": [],
   "source": [
    "def infer_shift(position, path, search_space=(200, 200), verbose=True):\n",
    "    \n",
    "    t1 = time.time()\n",
    "    if verbose:\n",
    "        print(\"inferring shift for position %s\" % position)\n",
    "    \n",
    "    if (search_space[0] % 2 != 0) or (search_space[1] % 2 != 0):\n",
    "        print(\"  Search space has to be even for both dimensions\")\n",
    "        return None\n",
    "    else:\n",
    "    \n",
    "        path_t1 = os.path.join(path, \"out-focus/before/bfxy%sc1.tif\" % position)\n",
    "        path_t2 = os.path.join(path, \"out-focus/after/bfxy%sc1.tif\" % position)\n",
    "    \n",
    "        ## extract slides\n",
    "        bf = get_video(path_t1)\n",
    "        f1 = bf[len(bf) - 1]\n",
    "\n",
    "        af = get_video(path_t2)\n",
    "        f2 = af[0]\n",
    "\n",
    "        fs = bf + af\n",
    "    \n",
    "        ## calculate absolute difference for various shifting configurations\n",
    "\n",
    "        x1 = search_space[0]\n",
    "        x2 = search_space[0]\n",
    "        y1 = search_space[1]\n",
    "        y2 = search_space[1]\n",
    "        mid = f1.shape[0] // 2, f1.shape[1] // 2\n",
    "        absdiffs = np.zeros((search_space[0] + 1, search_space[1] + 1))\n",
    "\n",
    "\n",
    "        f1sub = f1[(mid[0] - x1):(mid[0] + x2), (mid[1] - y1):(mid[1] + y2)]\n",
    "\n",
    "    for xdiff in range(-int(search_space[0] / 2), int(search_space[0] / 2) + 1):\n",
    "        for ydiff in range(-int(search_space[1] / 2), int(search_space[1] / 2) + 1):\n",
    "            f2sub = f2[(mid[0] - x1 + xdiff):(mid[0] + x2 + xdiff), \n",
    "                       (mid[1] - y1 + ydiff):(mid[1] + y2 + ydiff)]\n",
    "    \n",
    "            absdiffs[xdiff + int(search_space[0] / 2)][ydiff + int(search_space[1] / 2)] = \\\n",
    "                np.sum(cv2.absdiff(f1sub, f2sub).ravel())\n",
    "        \n",
    "        \n",
    "    ## calculate shift based on calibration data\n",
    "\n",
    "    x = np.argmin(absdiffs) // absdiffs.shape[0]\n",
    "    y = np.argmin(absdiffs) % absdiffs.shape[0]\n",
    "    \n",
    "    \"\"\"\n",
    "    True shift is the opposite of coordinate encoded in absdiff\n",
    "    \n",
    "    Let X2 the second picture and X1 the first picture.\n",
    "    If the sub-picture of first slide of X2 centered at (c1 + s1, c2 + s2)\n",
    "    fits the most with the sub-picture of the last slide of X1\n",
    "    centered at (c1, c2) then the pictures shift by (-s1, -s2)\n",
    "    upon treatment\n",
    "    \"\"\"\n",
    "    diff = -(x - search_space[0] / 2), -(y - search_space[1] / 2)\n",
    "\n",
    "    if verbose:\n",
    "        print(\"  inferred shift (%d, %d)\" % diff)\n",
    "        print(\"  elapsed time: %f\" % (time.time() - t1))\n",
    "    else:\n",
    "        print(\"%s, %d, %d\" % (position, diff[0], diff[1]))\n",
    "    \n",
    "    return diff"
   ]
  },
  {
   "cell_type": "code",
   "execution_count": 6,
   "metadata": {
    "collapsed": false
   },
   "outputs": [],
   "source": [
    "def infer_shift_range(path, first=1, last=63, search_space=(200, 200), verbose=True):\n",
    "    for pos in range(first, last + 1):\n",
    "        \n",
    "        t1 = time.time()\n",
    "        if pos < 10:\n",
    "            posstr = \"0%d\" % pos\n",
    "            this_path = path % posstr\n",
    "            if verbose:\n",
    "                print(\"copying position %s\" % posstr)\n",
    "            infer_shift(position=posstr, path=this_path, search_space=search_space, verbose=verbose)\n",
    "        else:\n",
    "            if verbose:\n",
    "                print(\"copying position %d\" % pos)\n",
    "            this_path = path % str(pos)\n",
    "            infer_shift(position=str(pos), path=this_path, search_space=search_space, verbose=verbose)\n",
    "        if verbose:\n",
    "            print(\" elapsed time: %f\" % (time.time() - t1))"
   ]
  },
  {
   "cell_type": "code",
   "execution_count": 7,
   "metadata": {
    "collapsed": true
   },
   "outputs": [],
   "source": [
    "def correct_shifts(path=\"../test/eli-new-unsync-bf-%s/\", highest_shift=30, pos_start=1, pos_end=63):\n",
    "\n",
    "    positions = list(range(pos_end + 1))[pos_start:]\n",
    "    for pos in positions:\n",
    "        if pos < 10:\n",
    "            pst = \"0%d\" % pos\n",
    "        else:\n",
    "            pst = str(pos)\n",
    "        \n",
    "        t1 = time.time()\n",
    "        print(\"correcting frames for position %s\" % pst)\n",
    "\n",
    "        path = path % pst\n",
    "\n",
    "        diff = infer_shift(pst, path, verbose=False)\n",
    "        print(\"    Inferred diff \" + str(diff))\n",
    "    \n",
    "        if (abs(diff[0]) == 0) and (abs(diff[1]) == 0):\n",
    "            print(\"     Perfect alignment, no frame adjustment will be done\")\n",
    "    \n",
    "        elif (abs(diff[0]) < highest_shift) and (abs(diff[1]) < highest_shift):\n",
    "\n",
    "            casp = os.path.join(path, \"caspase/caspasexy%sc1.tif\" % pst)\n",
    "            pi1 = os.path.join(path, \"pi/before/pi_in-focusxy%sc1.tif\" % pst)\n",
    "            pi2 = os.path.join(path, \"pi/after/pixy%sc1.tif\" % pst)\n",
    "            in1 = os.path.join(path, \"in-focus/before/bf_in-focusxy%sc1c1.tif\" % pst)\n",
    "            in2 = os.path.join(path, \"in-focus/after/bf_in-focusxy%sc1.tif\" % pst)\n",
    "            out1 = os.path.join(path, \"out-focus/before/bfxy%sc1.tif\" % pst)\n",
    "            out2 = os.path.join(path, \"out-focus/after/bfxy%sc1.tif\" % pst)\n",
    "\n",
    "            caspv = get_video(casp)\n",
    "            pi1v = get_video(pi1)\n",
    "            pi2v = get_video(pi2)\n",
    "            in1v = get_video(in1)\n",
    "            in2v = get_video(in2)\n",
    "            out1v = get_video(out1)\n",
    "            out2v = get_video(out2)\n",
    "\n",
    "            print(\"    Video importing done. Inferring shift and adjusting frames\")\n",
    "\n",
    "            diff = int(diff[0]), int(diff[1])\n",
    "\n",
    "            if abs(diff[0]) != 0:\n",
    "                caspv_cropped = [sld[-diff[0]:,:] if diff[0] < 0 else sld[:-(diff[0]),:] for sld in caspv]\n",
    "                pi2v_cropped = [sld[-diff[0]:,:] if diff[0] < 0 else sld[:-(diff[0]),:] for sld in pi2v]\n",
    "                in2v_cropped = [sld[-diff[0]:,:] if diff[0] < 0 else sld[:-(diff[0]),:] for sld in in2v]\n",
    "                out2v_cropped = [sld[-diff[0]:,:] if diff[0] < 0 else sld[:-(diff[0]),:] for sld in out2v]\n",
    "        \n",
    "                pi1v_cropped = [sld[:diff[0],:] if diff[0] < 0 else sld[diff[0]:,:] for sld in pi1v]\n",
    "                in1v_cropped = [sld[:diff[0],:] if diff[0] < 0 else sld[diff[0]:,:] for sld in in1v]\n",
    "                out1v_cropped = [sld[:diff[0],:] if diff[0] < 0 else sld[diff[0]:,:] for sld in out1v]\n",
    "            \n",
    "            if abs(diff[1]) != 0:\n",
    "        \n",
    "                caspv_cropped = [sld[:,-diff[1]:] if diff[1] <= 0 else sld[:,:-(diff[1])] for sld in caspv_cropped]\n",
    "                pi2v_cropped = [sld[:,-diff[1]:] if diff[1] <= 0 else sld[:,:-(diff[1])] for sld in pi2v_cropped]\n",
    "                in2v_cropped = [sld[:,-diff[1]:] if diff[1] <= 0 else sld[:,:-(diff[1])] for sld in in2v_cropped]\n",
    "                out2v_cropped = [sld[:,-diff[1]:] if diff[1] <= 0 else sld[:,:-(diff[1])] for sld in out2v_cropped]\n",
    "        \n",
    "                pi1v_cropped = [sld[:,:diff[1]] if diff[1] <= 0 else sld[:,diff[1]:] for sld in pi1v_cropped]\n",
    "                in1v_cropped = [sld[:,:diff[1]] if diff[1] <= 0 else sld[:,diff[1]:] for sld in in1v_cropped]\n",
    "                out1v_cropped = [sld[:,:diff[1]] if diff[1] <= 0 else sld[:,diff[1]:] for sld in out1v_cropped]\n",
    "\n",
    "            print(\"    Adjustment done. Writing results...\")\n",
    "\n",
    "            imsave(casp, np.array(caspv_cropped))\n",
    "            imsave(pi1, np.array(pi1v_cropped))\n",
    "            imsave(pi2, np.array(pi2v_cropped))\n",
    "            imsave(in1, np.array(in1v_cropped))\n",
    "            imsave(in2, np.array(in2v_cropped))\n",
    "            imsave(out1, np.array(out1v_cropped))\n",
    "            imsave(out2, np.array(out2v_cropped))\n",
    "\n",
    "            print(\"time elapsed: %f\" % (time.time() - t1))\n",
    "        else:\n",
    "            print(\"Inferred shift too large\")"
   ]
  },
  {
   "cell_type": "code",
   "execution_count": 28,
   "metadata": {
    "collapsed": false
   },
   "outputs": [],
   "source": [
    "# TODO run\n",
    "\n",
    "infer_shift_range(\"../test/eli-new-unsync-bf-%s/\", 1, 63, verbose=False)"
   ]
  },
  {
   "cell_type": "markdown",
   "metadata": {},
   "source": [
    "## Non-functional pipeline and extra plotting (for thesis etc)"
   ]
  },
  {
   "cell_type": "code",
   "execution_count": 10,
   "metadata": {
    "collapsed": false
   },
   "outputs": [],
   "source": [
    "position = \"26\"\n",
    "path = \"../test/eli-new-unsync-bf-%s/out-focus/\" % position\n",
    "path_t1 = os.path.join(path, \"before/bfxy%sc1.tif\" % position)\n",
    "path_t2 = os.path.join(path, \"after/bfxy%sc1.tif\" % position)"
   ]
  },
  {
   "cell_type": "code",
   "execution_count": 11,
   "metadata": {
    "collapsed": false
   },
   "outputs": [],
   "source": [
    "## extract slides\n",
    "\n",
    "bf = get_video(path_t1)\n",
    "f1 = bf[len(bf) - 1]\n",
    "\n",
    "af = get_video(path_t2)\n",
    "f2 = af[0]\n",
    "\n",
    "fs = bf + af"
   ]
  },
  {
   "cell_type": "code",
   "execution_count": 12,
   "metadata": {
    "collapsed": false
   },
   "outputs": [
    {
     "data": {
      "image/png": "[encoded data removed]",
      "text/plain": [
       "<matplotlib.figure.Figure at 0x1b154cb2b38>"
      ]
     },
     "metadata": {},
     "output_type": "display_data"
    }
   ],
   "source": [
    "## channel histogram for f2\n",
    "\n",
    "pt.hist(f2.ravel(), bins=200)\n",
    "pt.show()"
   ]
  },
  {
   "cell_type": "code",
   "execution_count": 13,
   "metadata": {
    "collapsed": false
   },
   "outputs": [
    {
     "data": {
      "image/png": "[encoded data removed]",
      "text/plain": [
       "<matplotlib.figure.Figure at 0x1b13f1b3978>"
      ]
     },
     "metadata": {},
     "output_type": "display_data"
    }
   ],
   "source": [
    "## channel histogram for f1\n",
    "\n",
    "pt.hist(f1.ravel(), bins=200)\n",
    "pt.show()"
   ]
  },
  {
   "cell_type": "code",
   "execution_count": 24,
   "metadata": {
    "collapsed": false
   },
   "outputs": [
    {
     "data": {
      "image/png": "[encoded data removed]",
      "text/plain": [
       "<matplotlib.figure.Figure at 0x1b13f141c18>"
      ]
     },
     "metadata": {},
     "output_type": "display_data"
    }
   ],
   "source": [
    "## check slide-wise sum of absolute difference\n",
    "\n",
    "absdiffs = []\n",
    "for i in range(len(fs) - 7):\n",
    "    prv = fs[i]\n",
    "    nxt = fs[i + 1]\n",
    "    \n",
    "    absdiffs.append(np.sum(cv2.absdiff(prv, nxt).ravel()))\n",
    "    \n",
    "pt.plot(range(len(absdiffs)), absdiffs)\n",
    "pt.title(\"Pixel difference between consecutive frames (%s)\" % position)\n",
    "pt.xlabel(\"Frame position\")\n",
    "pt.ylabel(\"Sum of absolute difference\")\n",
    "pt.show()"
   ]
  },
  {
   "cell_type": "code",
   "execution_count": 25,
   "metadata": {
    "collapsed": false
   },
   "outputs": [
    {
     "name": "stdout",
     "output_type": "stream",
     "text": [
      "inferred shift (0, 0)\n"
     ]
    }
   ],
   "source": [
    "## calculate absolute difference for various shifting configurations\n",
    "\n",
    "x1 = 200\n",
    "x2 = 200\n",
    "y1 = 200\n",
    "y2 = 200\n",
    "mid = f1.shape[0] // 2, f1.shape[1] // 2\n",
    "absdiffs = np.zeros((201, 201))\n",
    "\n",
    "\n",
    "f1sub = f1[(mid[0] - x1):(mid[0] + x2), (mid[1] - y1):(mid[1] + y2)]\n",
    "\n",
    "for xdiff in range(-100, 101):\n",
    "    for ydiff in range(-100, 101):\n",
    "        f2sub = f2[(mid[0] - x1 + xdiff):(mid[0] + x2 + xdiff), \n",
    "                   (mid[1] - y1 + ydiff):(mid[1] + y2 + ydiff)]\n",
    "    \n",
    "        absdiffs[xdiff + 100][ydiff + 100] = np.sum(cv2.absdiff(f1sub, f2sub).ravel())\n",
    "        \n",
    "        \n",
    "## calculate shift based on calibration data\n",
    "\n",
    "x = np.argmin(absdiffs) // absdiffs.shape[0]\n",
    "y = np.argmin(absdiffs) % absdiffs.shape[0]\n",
    "diff = x - 100, y - 100\n",
    "\n",
    "print(\"inferred shift (%d, %d)\" % diff)"
   ]
  },
  {
   "cell_type": "code",
   "execution_count": 26,
   "metadata": {
    "collapsed": false
   },
   "outputs": [
    {
     "data": {
      "text/plain": [
       "array([ 0,  1,  2,  3,  4,  5,  6,  7,  8,  9, 10, 11, 12, 13, 14, 15, 16,\n",
       "       17, 18, 19, 20, 21, 22, 23, 24, 25, 26, 27, 28, 29, 30, 31, 32, 33,\n",
       "       34, 35, 36, 37, 38, 39, 40, 41, 42, 43, 44, 45, 46, 47, 48, 49, 50,\n",
       "       51, 52, 53, 54, 55, 56, 57, 58, 59, 60, 61, 62, 63, 64, 65, 66, 67,\n",
       "       68, 69, 70, 71, 72, 73, 74, 75, 76, 77, 78, 79, 80, 81, 82, 83, 84,\n",
       "       85, 86, 87, 88, 89, 90, 91, 92, 93, 94, 95, 96, 97, 98, 99])"
      ]
     },
     "execution_count": 26,
     "metadata": {},
     "output_type": "execute_result"
    }
   ],
   "source": [
    "np.arange(0, 100)"
   ]
  },
  {
   "cell_type": "code",
   "execution_count": 27,
   "metadata": {
    "collapsed": false
   },
   "outputs": [
    {
     "data": {
      "image/png": "[encoded data removed]",
      "text/plain": [
       "<matplotlib.figure.Figure at 0x1b14dd90f28>"
      ]
     },
     "metadata": {},
     "output_type": "display_data"
    }
   ],
   "source": [
    "## visualize difference as heatmap\n",
    "\n",
    "fig, ax = pt.subplots()\n",
    "\n",
    "hmp = ax.imshow(absdiffs.T, cmap=\"hot\", label=\"absolute difference\")\n",
    "\n",
    "# Add colorbar, make sure to specify tick locations to match desired ticklabels\n",
    "\n",
    "cbar = fig.colorbar(hmp)\n",
    "ax.set_xticklabels([0, -100, -50, 0, 50, 100])\n",
    "ax.set_yticklabels([0, -100, -50, 0, 50, 100])\n",
    "# pt.setxticks([-100, -50, 0, 50, 100])\n",
    "pt.scatter(x, y)\n",
    "# pt.legend()\n",
    "\n",
    "pt.title(\"Abs. diff. value for different shift configs (%s)\" % position)\n",
    "pt.xlabel(\"x shift (pixels)\")\n",
    "pt.ylabel(\"y shift (pixels)\")\n",
    "#legend\n",
    "\n",
    "fig.set_size_inches(6, 6)\n"
   ]
  },
  {
   "cell_type": "markdown",
   "metadata": {
    "collapsed": false
   },
   "source": [
    "## Functional Pipeline"
   ]
  },
  {
   "cell_type": "code",
   "execution_count": 46,
   "metadata": {
    "collapsed": false
   },
   "outputs": [
    {
     "name": "stdout",
     "output_type": "stream",
     "text": [
      "correcting frames for position 01\n",
      "01, 2, 4\n",
      "    Inferred diff (2.0, 4.0)\n",
      "    Video importing done. Inferring shift and adjusting frames\n",
      "    Adjustment done. Writing results...\n",
      "time elapsed: 267.372346\n",
      "correcting frames for position 02\n",
      "02, 3, 4\n",
      "    Inferred diff (3.0, 4.0)\n",
      "    Video importing done. Inferring shift and adjusting frames\n",
      "    Adjustment done. Writing results...\n",
      "time elapsed: 139.197752\n",
      "correcting frames for position 03\n",
      "03, 3, 4\n",
      "    Inferred diff (3.0, 4.0)\n",
      "    Video importing done. Inferring shift and adjusting frames\n",
      "    Adjustment done. Writing results...\n",
      "time elapsed: 141.251465\n",
      "correcting frames for position 04\n",
      "04, 70, -82\n",
      "    Inferred diff (70.0, -82.0)\n",
      "Inferred shift too large\n",
      "correcting frames for position 05\n",
      "05, 3, 3\n",
      "    Inferred diff (3.0, 3.0)\n",
      "    Video importing done. Inferring shift and adjusting frames\n",
      "    Adjustment done. Writing results...\n",
      "time elapsed: 138.705825\n",
      "correcting frames for position 06\n",
      "06, 3, 4\n",
      "    Inferred diff (3.0, 4.0)\n",
      "    Video importing done. Inferring shift and adjusting frames\n",
      "    Adjustment done. Writing results...\n",
      "time elapsed: 127.777290\n",
      "correcting frames for position 07\n",
      "07, 3, 4\n",
      "    Inferred diff (3.0, 4.0)\n",
      "    Video importing done. Inferring shift and adjusting frames\n",
      "    Adjustment done. Writing results...\n",
      "time elapsed: 126.411787\n",
      "correcting frames for position 08\n",
      "08, 4, 3\n",
      "    Inferred diff (4.0, 3.0)\n",
      "    Video importing done. Inferring shift and adjusting frames\n",
      "    Adjustment done. Writing results...\n",
      "time elapsed: 124.735574\n",
      "correcting frames for position 09\n",
      "09, 4, 4\n",
      "    Inferred diff (4.0, 4.0)\n",
      "    Video importing done. Inferring shift and adjusting frames\n",
      "    Adjustment done. Writing results...\n",
      "time elapsed: 122.265129\n",
      "correcting frames for position 10\n",
      "10, 4, 4\n",
      "    Inferred diff (4.0, 4.0)\n",
      "    Video importing done. Inferring shift and adjusting frames\n",
      "    Adjustment done. Writing results...\n",
      "time elapsed: 114.481265\n",
      "correcting frames for position 11\n",
      "11, 4, 4\n",
      "    Inferred diff (4.0, 4.0)\n",
      "    Video importing done. Inferring shift and adjusting frames\n",
      "    Adjustment done. Writing results...\n",
      "time elapsed: 112.441381\n",
      "correcting frames for position 12\n",
      "12, 4, 3\n",
      "    Inferred diff (4.0, 3.0)\n",
      "    Video importing done. Inferring shift and adjusting frames\n",
      "    Adjustment done. Writing results...\n",
      "time elapsed: 113.136331\n",
      "correcting frames for position 13\n",
      "13, 4, 3\n",
      "    Inferred diff (4.0, 3.0)\n",
      "    Video importing done. Inferring shift and adjusting frames\n",
      "    Adjustment done. Writing results...\n",
      "time elapsed: 112.765811\n",
      "correcting frames for position 14\n",
      "14, 5, 3\n",
      "    Inferred diff (5.0, 3.0)\n",
      "    Video importing done. Inferring shift and adjusting frames\n",
      "    Adjustment done. Writing results...\n",
      "time elapsed: 112.236689\n",
      "correcting frames for position 15\n",
      "15, 5, 3\n",
      "    Inferred diff (5.0, 3.0)\n",
      "    Video importing done. Inferring shift and adjusting frames\n",
      "    Adjustment done. Writing results...\n",
      "time elapsed: 114.549615\n",
      "correcting frames for position 16\n",
      "16, 6, 5\n",
      "    Inferred diff (6.0, 5.0)\n",
      "    Video importing done. Inferring shift and adjusting frames\n",
      "    Adjustment done. Writing results...\n",
      "time elapsed: 118.456677\n",
      "correcting frames for position 17\n",
      "17, 6, 5\n",
      "    Inferred diff (6.0, 5.0)\n",
      "    Video importing done. Inferring shift and adjusting frames\n",
      "    Adjustment done. Writing results...\n",
      "time elapsed: 115.479384\n",
      "correcting frames for position 18\n",
      "18, 6, 5\n",
      "    Inferred diff (6.0, 5.0)\n",
      "    Video importing done. Inferring shift and adjusting frames\n",
      "    Adjustment done. Writing results...\n",
      "time elapsed: 116.166348\n",
      "correcting frames for position 19\n",
      "19, 6, 5\n",
      "    Inferred diff (6.0, 5.0)\n",
      "    Video importing done. Inferring shift and adjusting frames\n",
      "    Adjustment done. Writing results...\n",
      "time elapsed: 109.362521\n",
      "correcting frames for position 20\n",
      "20, 6, 4\n",
      "    Inferred diff (6.0, 4.0)\n",
      "    Video importing done. Inferring shift and adjusting frames\n",
      "    Adjustment done. Writing results...\n",
      "time elapsed: 113.468674\n",
      "correcting frames for position 21\n",
      "21, 7, 5\n",
      "    Inferred diff (7.0, 5.0)\n",
      "    Video importing done. Inferring shift and adjusting frames\n",
      "    Adjustment done. Writing results...\n",
      "time elapsed: 114.014147\n",
      "correcting frames for position 22\n",
      "22, 7, 4\n",
      "    Inferred diff (7.0, 4.0)\n",
      "    Video importing done. Inferring shift and adjusting frames\n",
      "    Adjustment done. Writing results...\n",
      "time elapsed: 116.001566\n",
      "correcting frames for position 23\n",
      "23, 7, 4\n",
      "    Inferred diff (7.0, 4.0)\n",
      "    Video importing done. Inferring shift and adjusting frames\n",
      "    Adjustment done. Writing results...\n",
      "time elapsed: 115.589257\n",
      "correcting frames for position 24\n",
      "24, 9, 4\n",
      "    Inferred diff (9.0, 4.0)\n",
      "    Video importing done. Inferring shift and adjusting frames\n",
      "    Adjustment done. Writing results...\n",
      "time elapsed: 113.295959\n",
      "correcting frames for position 25\n",
      "25, 9, 5\n",
      "    Inferred diff (9.0, 5.0)\n",
      "    Video importing done. Inferring shift and adjusting frames\n",
      "    Adjustment done. Writing results...\n",
      "time elapsed: 112.861081\n",
      "correcting frames for position 26\n",
      "26, 8, 5\n",
      "    Inferred diff (8.0, 5.0)\n",
      "    Video importing done. Inferring shift and adjusting frames\n",
      "    Adjustment done. Writing results...\n",
      "time elapsed: 117.030569\n",
      "correcting frames for position 27\n",
      "27, 8, 4\n",
      "    Inferred diff (8.0, 4.0)\n",
      "    Video importing done. Inferring shift and adjusting frames\n",
      "    Adjustment done. Writing results...\n",
      "time elapsed: 113.781549\n",
      "correcting frames for position 28\n",
      "28, 8, 4\n",
      "    Inferred diff (8.0, 4.0)\n",
      "    Video importing done. Inferring shift and adjusting frames\n",
      "    Adjustment done. Writing results...\n",
      "time elapsed: 114.829843\n",
      "correcting frames for position 29\n",
      "29, 8, 4\n",
      "    Inferred diff (8.0, 4.0)\n",
      "    Video importing done. Inferring shift and adjusting frames\n",
      "    Adjustment done. Writing results...\n",
      "time elapsed: 118.363421\n",
      "correcting frames for position 30\n",
      "30, 8, 4\n",
      "    Inferred diff (8.0, 4.0)\n",
      "    Video importing done. Inferring shift and adjusting frames\n",
      "    Adjustment done. Writing results...\n",
      "time elapsed: 119.387322\n",
      "correcting frames for position 31\n",
      "31, 8, 4\n",
      "    Inferred diff (8.0, 4.0)\n",
      "    Video importing done. Inferring shift and adjusting frames\n",
      "    Adjustment done. Writing results...\n",
      "time elapsed: 122.018731\n",
      "correcting frames for position 32\n",
      "32, 8, 3\n",
      "    Inferred diff (8.0, 3.0)\n",
      "    Video importing done. Inferring shift and adjusting frames\n",
      "    Adjustment done. Writing results...\n",
      "time elapsed: 115.139585\n",
      "correcting frames for position 33\n",
      "33, 9, 3\n",
      "    Inferred diff (9.0, 3.0)\n",
      "    Video importing done. Inferring shift and adjusting frames\n",
      "    Adjustment done. Writing results...\n",
      "time elapsed: 115.851615\n",
      "correcting frames for position 34\n",
      "34, 8, 3\n",
      "    Inferred diff (8.0, 3.0)\n",
      "    Video importing done. Inferring shift and adjusting frames\n",
      "    Adjustment done. Writing results...\n",
      "time elapsed: 115.455542\n",
      "correcting frames for position 35\n",
      "35, 8, 3\n",
      "    Inferred diff (8.0, 3.0)\n",
      "    Video importing done. Inferring shift and adjusting frames\n",
      "    Adjustment done. Writing results...\n",
      "time elapsed: 117.728077\n",
      "correcting frames for position 36\n",
      "36, 9, 2\n",
      "    Inferred diff (9.0, 2.0)\n",
      "    Video importing done. Inferring shift and adjusting frames\n",
      "    Adjustment done. Writing results...\n",
      "time elapsed: 117.066013\n",
      "correcting frames for position 37\n",
      "37, 9, 3\n",
      "    Inferred diff (9.0, 3.0)\n",
      "    Video importing done. Inferring shift and adjusting frames\n",
      "    Adjustment done. Writing results...\n",
      "time elapsed: 116.139690\n",
      "correcting frames for position 38\n",
      "38, 9, 2\n",
      "    Inferred diff (9.0, 2.0)\n",
      "    Video importing done. Inferring shift and adjusting frames\n",
      "    Adjustment done. Writing results...\n",
      "time elapsed: 55243.930927\n",
      "correcting frames for position 39\n",
      "39, 8, 2\n",
      "    Inferred diff (8.0, 2.0)\n",
      "    Video importing done. Inferring shift and adjusting frames\n",
      "    Adjustment done. Writing results...\n",
      "time elapsed: 135.176470\n",
      "correcting frames for position 40\n",
      "40, 7, 3\n",
      "    Inferred diff (7.0, 3.0)\n",
      "    Video importing done. Inferring shift and adjusting frames\n",
      "    Adjustment done. Writing results...\n",
      "time elapsed: 148.529819\n",
      "correcting frames for position 41\n",
      "41, 7, 3\n",
      "    Inferred diff (7.0, 3.0)\n",
      "    Video importing done. Inferring shift and adjusting frames\n",
      "    Adjustment done. Writing results...\n",
      "time elapsed: 126.473797\n",
      "correcting frames for position 42\n",
      "42, 7, 3\n",
      "    Inferred diff (7.0, 3.0)\n",
      "    Video importing done. Inferring shift and adjusting frames\n",
      "    Adjustment done. Writing results...\n",
      "time elapsed: 125.470689\n",
      "correcting frames for position 43\n",
      "43, 7, 3\n",
      "    Inferred diff (7.0, 3.0)\n",
      "    Video importing done. Inferring shift and adjusting frames\n",
      "    Adjustment done. Writing results...\n",
      "time elapsed: 122.061306\n",
      "correcting frames for position 44\n",
      "44, 7, 3\n",
      "    Inferred diff (7.0, 3.0)\n",
      "    Video importing done. Inferring shift and adjusting frames\n",
      "    Adjustment done. Writing results...\n",
      "time elapsed: 117.995881\n",
      "correcting frames for position 45\n",
      "45, 7, 3\n",
      "    Inferred diff (7.0, 3.0)\n",
      "    Video importing done. Inferring shift and adjusting frames\n",
      "    Adjustment done. Writing results...\n",
      "time elapsed: 122.429748\n",
      "correcting frames for position 46\n",
      "46, 7, 3\n",
      "    Inferred diff (7.0, 3.0)\n",
      "    Video importing done. Inferring shift and adjusting frames\n",
      "    Adjustment done. Writing results...\n",
      "time elapsed: 118.195674\n",
      "correcting frames for position 47\n",
      "47, 7, 2\n",
      "    Inferred diff (7.0, 2.0)\n",
      "    Video importing done. Inferring shift and adjusting frames\n",
      "    Adjustment done. Writing results...\n",
      "time elapsed: 121.771764\n",
      "correcting frames for position 48\n",
      "48, 4, 2\n",
      "    Inferred diff (4.0, 2.0)\n",
      "    Video importing done. Inferring shift and adjusting frames\n",
      "    Adjustment done. Writing results...\n",
      "time elapsed: 120.215449\n",
      "correcting frames for position 49\n",
      "49, 4, 2\n",
      "    Inferred diff (4.0, 2.0)\n",
      "    Video importing done. Inferring shift and adjusting frames\n",
      "    Adjustment done. Writing results...\n",
      "time elapsed: 117.777910\n",
      "correcting frames for position 50\n",
      "50, 4, 2\n",
      "    Inferred diff (4.0, 2.0)\n",
      "    Video importing done. Inferring shift and adjusting frames\n",
      "    Adjustment done. Writing results...\n",
      "time elapsed: 122.961154\n",
      "correcting frames for position 51\n",
      "51, 4, 2\n",
      "    Inferred diff (4.0, 2.0)\n",
      "    Video importing done. Inferring shift and adjusting frames\n",
      "    Adjustment done. Writing results...\n",
      "time elapsed: 118.599062\n",
      "correcting frames for position 52\n",
      "52, 4, 2\n",
      "    Inferred diff (4.0, 2.0)\n",
      "    Video importing done. Inferring shift and adjusting frames\n",
      "    Adjustment done. Writing results...\n",
      "time elapsed: 120.723960\n",
      "correcting frames for position 53\n",
      "53, 5, 2\n",
      "    Inferred diff (5.0, 2.0)\n",
      "    Video importing done. Inferring shift and adjusting frames\n",
      "    Adjustment done. Writing results...\n",
      "time elapsed: 119.014751\n",
      "correcting frames for position 54\n",
      "54, 5, 2\n",
      "    Inferred diff (5.0, 2.0)\n",
      "    Video importing done. Inferring shift and adjusting frames\n",
      "    Adjustment done. Writing results...\n",
      "time elapsed: 117.800866\n",
      "correcting frames for position 55\n",
      "55, 4, 1\n",
      "    Inferred diff (4.0, 1.0)\n",
      "    Video importing done. Inferring shift and adjusting frames\n",
      "    Adjustment done. Writing results...\n",
      "time elapsed: 118.177145\n",
      "correcting frames for position 56\n",
      "56, 2, 2\n",
      "    Inferred diff (2.0, 2.0)\n",
      "    Video importing done. Inferring shift and adjusting frames\n",
      "    Adjustment done. Writing results...\n",
      "time elapsed: 128.544539\n",
      "correcting frames for position 57\n",
      "57, 3, 3\n",
      "    Inferred diff (3.0, 3.0)\n",
      "    Video importing done. Inferring shift and adjusting frames\n",
      "    Adjustment done. Writing results...\n",
      "time elapsed: 139.122504\n",
      "correcting frames for position 58\n",
      "58, 3, 3\n",
      "    Inferred diff (3.0, 3.0)\n",
      "    Video importing done. Inferring shift and adjusting frames\n",
      "    Adjustment done. Writing results...\n",
      "time elapsed: 162.529413\n",
      "correcting frames for position 59\n",
      "59, 3, 2\n",
      "    Inferred diff (3.0, 2.0)\n",
      "    Video importing done. Inferring shift and adjusting frames\n",
      "    Adjustment done. Writing results...\n",
      "time elapsed: 158.260300\n",
      "correcting frames for position 60\n",
      "60, 3, 2\n",
      "    Inferred diff (3.0, 2.0)\n",
      "    Video importing done. Inferring shift and adjusting frames\n",
      "    Adjustment done. Writing results...\n",
      "time elapsed: 150.574813\n",
      "correcting frames for position 61\n",
      "61, 3, 3\n",
      "    Inferred diff (3.0, 3.0)\n",
      "    Video importing done. Inferring shift and adjusting frames\n",
      "    Adjustment done. Writing results...\n",
      "time elapsed: 154.057019\n",
      "correcting frames for position 62\n",
      "62, 3, 2\n",
      "    Inferred diff (3.0, 2.0)\n",
      "    Video importing done. Inferring shift and adjusting frames\n",
      "    Adjustment done. Writing results...\n",
      "time elapsed: 159.050551\n",
      "correcting frames for position 63\n",
      "63, 4, 2\n",
      "    Inferred diff (4.0, 2.0)\n",
      "    Video importing done. Inferring shift and adjusting frames\n",
      "    Adjustment done. Writing results...\n",
      "time elapsed: 160.841533\n"
     ]
    }
   ],
   "source": [
    "highest_shift = 30\n",
    "\n",
    "positions = list(np.array(range(63)) + 1)\n",
    "for pos in positions:\n",
    "    if pos < 10:\n",
    "        pst = \"0%d\" % pos\n",
    "    else:\n",
    "        pst = str(pos)\n",
    "        \n",
    "    t1 = time.time()\n",
    "    print(\"correcting frames for position %s\" % pst)\n",
    "\n",
    "    path = \"../test/eli-new-unsync-bf-%s/\" % pst\n",
    "\n",
    "    diff = infer_shift(pst, path, verbose=False)\n",
    "    print(\"    Inferred diff \" + str(diff))\n",
    "    \n",
    "    if (abs(diff[0]) == 0) and (abs(diff[1]) == 0):\n",
    "        print(\"     Perfect alignment, no frame adjustment will be done\")\n",
    "    \n",
    "    elif (abs(diff[0]) < highest_shift) and (abs(diff[1]) < highest_shift):\n",
    "\n",
    "        casp = os.path.join(path, \"caspase/caspasexy%sc1.tif\" % pst)\n",
    "        pi1 = os.path.join(path, \"pi/before/pi_in-focusxy%sc1.tif\" % pst)\n",
    "        pi2 = os.path.join(path, \"pi/after/pixy%sc1.tif\" % pst)\n",
    "        in1 = os.path.join(path, \"in-focus/before/bf_in-focusxy%sc1c1.tif\" % pst)\n",
    "        in2 = os.path.join(path, \"in-focus/after/bf_in-focusxy%sc1.tif\" % pst)\n",
    "        out1 = os.path.join(path, \"out-focus/before/bfxy%sc1.tif\" % pst)\n",
    "        out2 = os.path.join(path, \"out-focus/after/bfxy%sc1.tif\" % pst)\n",
    "\n",
    "        caspv = get_video(casp)\n",
    "        pi1v = get_video(pi1)\n",
    "        pi2v = get_video(pi2)\n",
    "        in1v = get_video(in1)\n",
    "        in2v = get_video(in2)\n",
    "        out1v = get_video(out1)\n",
    "        out2v = get_video(out2)\n",
    "\n",
    "        print(\"    Video importing done. Inferring shift and adjusting frames\")\n",
    "\n",
    "        diff = int(diff[0]), int(diff[1])\n",
    "\n",
    "        if abs(diff[0]) != 0:\n",
    "            caspv_cropped = [sld[-diff[0]:,:] if diff[0] < 0 else sld[:-(diff[0]),:] for sld in caspv]\n",
    "            pi2v_cropped = [sld[-diff[0]:,:] if diff[0] < 0 else sld[:-(diff[0]),:] for sld in pi2v]\n",
    "            in2v_cropped = [sld[-diff[0]:,:] if diff[0] < 0 else sld[:-(diff[0]),:] for sld in in2v]\n",
    "            out2v_cropped = [sld[-diff[0]:,:] if diff[0] < 0 else sld[:-(diff[0]),:] for sld in out2v]\n",
    "        \n",
    "            pi1v_cropped = [sld[:diff[0],:] if diff[0] < 0 else sld[diff[0]:,:] for sld in pi1v]\n",
    "            in1v_cropped = [sld[:diff[0],:] if diff[0] < 0 else sld[diff[0]:,:] for sld in in1v]\n",
    "            out1v_cropped = [sld[:diff[0],:] if diff[0] < 0 else sld[diff[0]:,:] for sld in out1v]\n",
    "            \n",
    "        if abs(diff[1]) != 0:\n",
    "        \n",
    "            caspv_cropped = [sld[:,-diff[1]:] if diff[1] <= 0 else sld[:,:-(diff[1])] for sld in caspv_cropped]\n",
    "            pi2v_cropped = [sld[:,-diff[1]:] if diff[1] <= 0 else sld[:,:-(diff[1])] for sld in pi2v_cropped]\n",
    "            in2v_cropped = [sld[:,-diff[1]:] if diff[1] <= 0 else sld[:,:-(diff[1])] for sld in in2v_cropped]\n",
    "            out2v_cropped = [sld[:,-diff[1]:] if diff[1] <= 0 else sld[:,:-(diff[1])] for sld in out2v_cropped]\n",
    "        \n",
    "            pi1v_cropped = [sld[:,:diff[1]] if diff[1] <= 0 else sld[:,diff[1]:] for sld in pi1v_cropped]\n",
    "            in1v_cropped = [sld[:,:diff[1]] if diff[1] <= 0 else sld[:,diff[1]:] for sld in in1v_cropped]\n",
    "            out1v_cropped = [sld[:,:diff[1]] if diff[1] <= 0 else sld[:,diff[1]:] for sld in out1v_cropped]\n",
    "\n",
    "        print(\"    Adjustment done. Writing results...\")\n",
    "\n",
    "        imsave(casp, np.array(caspv_cropped))\n",
    "        imsave(pi1, np.array(pi1v_cropped))\n",
    "        imsave(pi2, np.array(pi2v_cropped))\n",
    "        imsave(in1, np.array(in1v_cropped))\n",
    "        imsave(in2, np.array(in2v_cropped))\n",
    "        imsave(out1, np.array(out1v_cropped))\n",
    "        imsave(out2, np.array(out2v_cropped))\n",
    "\n",
    "        print(\"time elapsed: %f\" % (time.time() - t1))\n",
    "    else:\n",
    "        print(\"Inferred shift too large\")"
   ]
  },
  {
   "cell_type": "markdown",
   "metadata": {},
   "source": [
    "## Tested part starts here"
   ]
  },
  {
   "cell_type": "code",
   "execution_count": 20,
   "metadata": {
    "collapsed": true
   },
   "outputs": [],
   "source": [
    "pos = 26"
   ]
  },
  {
   "cell_type": "code",
   "execution_count": 22,
   "metadata": {
    "collapsed": false
   },
   "outputs": [
    {
     "name": "stdout",
     "output_type": "stream",
     "text": [
      "26, 8, 5\n"
     ]
    },
    {
     "data": {
      "text/plain": [
       "(8.0, 5.0)"
      ]
     },
     "execution_count": 22,
     "metadata": {},
     "output_type": "execute_result"
    }
   ],
   "source": [
    "diff = infer_shift(pos, \"../test/eli-new-unsync-bf-%s/\" % pos, verbose=False)\n",
    "diff"
   ]
  },
  {
   "cell_type": "code",
   "execution_count": 23,
   "metadata": {
    "collapsed": true
   },
   "outputs": [],
   "source": [
    "casp = \"../test/eli-new-unsync-bf-%d/caspase/caspasexy%dc1.tif\" % (pos, pos)\n",
    "pi1 = \"../test/eli-new-unsync-bf-%d/pi/before/pi_in-focusxy%dc1.tif\" % (pos, pos)\n",
    "pi2 = \"../test/eli-new-unsync-bf-%d/pi/after/pixy%dc1.tif\" % (pos, pos)\n",
    "in1 = \"../test/eli-new-unsync-bf-%d/in-focus/before/bf_in-focusxy%dc1c1.tif\" % (pos, pos)\n",
    "in2 = \"../test/eli-new-unsync-bf-%d/in-focus/after/bf_in-focusxy%dc1.tif\" % (pos, pos)\n",
    "out1 = \"../test/eli-new-unsync-bf-%d/out-focus/before/bfxy%dc1.tif\" % (pos, pos)\n",
    "out2 = \"../test/eli-new-unsync-bf-%d/out-focus/after/bfxy%dc1.tif\" % (pos, pos)"
   ]
  },
  {
   "cell_type": "code",
   "execution_count": 24,
   "metadata": {
    "collapsed": false
   },
   "outputs": [],
   "source": [
    "caspv = get_video(casp)\n",
    "pi1v = get_video(pi1)\n",
    "pi2v = get_video(pi2)\n",
    "in1v = get_video(in1)\n",
    "in2v = get_video(in2)\n",
    "out1v = get_video(out1)\n",
    "out2v = get_video(out2)"
   ]
  },
  {
   "cell_type": "code",
   "execution_count": 25,
   "metadata": {
    "collapsed": false
   },
   "outputs": [],
   "source": [
    "diff = int(diff[0]), int(diff[1])"
   ]
  },
  {
   "cell_type": "code",
   "execution_count": 26,
   "metadata": {
    "collapsed": false
   },
   "outputs": [],
   "source": [
    "caspv_cropped = [sld[-diff[0]:,:] if diff[0] <= 0 else sld[:-(diff[0]),:] for sld in caspv]\n",
    "caspv_cropped = [sld[:,-diff[1]:] if diff[1] <= 0 else sld[:,:-(diff[1])] for sld in caspv_cropped]\n",
    "\n",
    "pi2v_cropped = [sld[-diff[0]:,:] if diff[0] <= 0 else sld[:-(diff[0]),:] for sld in pi2v]\n",
    "pi2v_cropped = [sld[:,-diff[1]:] if diff[1] <= 0 else sld[:,:-(diff[1])] for sld in pi2v_cropped]\n",
    "\n",
    "in2v_cropped = [sld[-diff[0]:,:] if diff[0] <= 0 else sld[:-(diff[0]),:] for sld in in2v]\n",
    "in2v_cropped = [sld[:,-diff[1]:] if diff[1] <= 0 else sld[:,:-(diff[1])] for sld in in2v_cropped]\n",
    "\n",
    "out2v_cropped = [sld[-diff[0]:,:] if diff[0] <= 0 else sld[:-(diff[0]),:] for sld in out2v]\n",
    "out2v_cropped = [sld[:,-diff[1]:] if diff[1] <= 0 else sld[:,:-(diff[1])] for sld in out2v_cropped]"
   ]
  },
  {
   "cell_type": "code",
   "execution_count": 27,
   "metadata": {
    "collapsed": true
   },
   "outputs": [],
   "source": [
    "pi1v_cropped = [sld[:diff[0],:] if diff[0] <= 0 else sld[diff[0]:,:] for sld in pi1v]\n",
    "pi1v_cropped = [sld[:,:diff[1]] if diff[1] <= 0 else sld[:,diff[1]:] for sld in pi1v_cropped]\n",
    "\n",
    "in1v_cropped = [sld[:diff[0],:] if diff[0] <= 0 else sld[diff[0]:,:] for sld in in1v]\n",
    "in1v_cropped = [sld[:,:diff[1]] if diff[1] <= 0 else sld[:,diff[1]:] for sld in in1v_cropped]\n",
    "\n",
    "out1v_cropped = [sld[:diff[0],:] if diff[0] <= 0 else sld[diff[0]:,:] for sld in out1v]\n",
    "out1v_cropped = [sld[:,:diff[1]] if diff[1] <= 0 else sld[:,diff[1]:] for sld in out1v_cropped]"
   ]
  },
  {
   "cell_type": "code",
   "execution_count": 28,
   "metadata": {
    "collapsed": false
   },
   "outputs": [
    {
     "name": "stdout",
     "output_type": "stream",
     "text": [
      "(2040, 2039)\n",
      "(2040, 2039)\n",
      "(2040, 2039)\n",
      "(2040, 2039)\n",
      "(2040, 2039)\n",
      "(2040, 2039)\n",
      "(2040, 2039)\n"
     ]
    }
   ],
   "source": [
    "print(out1v_cropped[0].shape)\n",
    "print(out2v_cropped[0].shape)\n",
    "print(in1v_cropped[0].shape)\n",
    "print(in2v_cropped[0].shape)\n",
    "print(pi1v_cropped[0].shape)\n",
    "print(pi2v_cropped[0].shape)\n",
    "print(caspv_cropped[0].shape)"
   ]
  },
  {
   "cell_type": "code",
   "execution_count": 29,
   "metadata": {
    "collapsed": false
   },
   "outputs": [
    {
     "data": {
      "text/plain": [
       "(2040, 2039)"
      ]
     },
     "execution_count": 29,
     "metadata": {},
     "output_type": "execute_result"
    }
   ],
   "source": [
    "pi1v_cropped[0].shape"
   ]
  },
  {
   "cell_type": "code",
   "execution_count": 30,
   "metadata": {
    "collapsed": false
   },
   "outputs": [
    {
     "data": {
      "text/plain": [
       "(2040, 2039)"
      ]
     },
     "execution_count": 30,
     "metadata": {},
     "output_type": "execute_result"
    }
   ],
   "source": [
    "caspv_cropped[0].shape"
   ]
  },
  {
   "cell_type": "code",
   "execution_count": 31,
   "metadata": {
    "collapsed": false
   },
   "outputs": [],
   "source": [
    "caspcrped = \"../test/eli-new-unsync-bf-%d-cropped/caspase/caspasexy%dc1.tif\" % (pos, pos)\n",
    "pi1crped = \"../test/eli-new-unsync-bf-%d-cropped/pi/before/pi_in-focusxy%dc1.tif\" % (pos, pos)\n",
    "pi2crped = \"../test/eli-new-unsync-bf-%d-cropped/pi/after/pixy%dc1.tif\" % (pos, pos)\n",
    "in1crped = \"../test/eli-new-unsync-bf-%d-cropped/in-focus/before/bf_in-focusxy%dc1c1.tif\" % (pos, pos)\n",
    "in2crped = \"../test/eli-new-unsync-bf-%d-cropped/in-focus/after/bf_in-focusxy%dc1.tif\" % (pos, pos)\n",
    "out1crped = \"../test/eli-new-unsync-bf-%d-cropped/out-focus/before/bfxy%dc1.tif\" % (pos, pos)\n",
    "out2crped = \"../test/eli-new-unsync-bf-%d-cropped/out-focus/after/bfxy%dc1.tif\" % (pos, pos)"
   ]
  },
  {
   "cell_type": "code",
   "execution_count": 32,
   "metadata": {
    "collapsed": false
   },
   "outputs": [],
   "source": [
    "imsave(caspcrped, np.array(caspv_cropped))\n",
    "imsave(pi1crped, np.array(pi1v_cropped))\n",
    "imsave(pi2crped, np.array(pi2v_cropped))\n",
    "imsave(in1crped, np.array(in1v_cropped))\n",
    "imsave(in2crped, np.array(in2v_cropped))\n",
    "imsave(out1crped, np.array(out1v_cropped))\n",
    "imsave(out2crped, np.array(out2v_cropped))"
   ]
  },
  {
   "cell_type": "code",
   "execution_count": null,
   "metadata": {
    "collapsed": true
   },
   "outputs": [],
   "source": []
  }
 ],
 "metadata": {
  "anaconda-cloud": {},
  "kernelspec": {
   "display_name": "Python [default]",
   "language": "python",
   "name": "python3"
  },
  "language_info": {
   "codemirror_mode": {
    "name": "ipython",
    "version": 3
   },
   "file_extension": ".py",
   "mimetype": "text/x-python",
   "name": "python",
   "nbconvert_exporter": "python",
   "pygments_lexer": "ipython3",
   "version": "3.5.2"
  }
 },
 "nbformat": 4,
 "nbformat_minor": 1
}
